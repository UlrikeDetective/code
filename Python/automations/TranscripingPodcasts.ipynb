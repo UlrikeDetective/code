{
 "cells": [
  {
   "cell_type": "markdown",
   "metadata": {},
   "source": [
    "#Transcriping Podcasts using RSS\n",
    "\n",
    "### Step 1: Install Required Libraries\n",
    "We’ll use feedparser to parse the RSS feed and requests to download audio files. For transcription, you can use Google Cloud Speech-to-Text, OpenAI Whisper, or any other service you prefer.\n",
    "\n",
    "Install these packages if you haven't already:"
   ]
  },
  {
   "cell_type": "code",
   "execution_count": null,
   "metadata": {
    "vscode": {
     "languageId": "plaintext"
    }
   },
   "outputs": [],
   "source": [
    "pip install feedparser requests\n",
    "pip install google-cloud-speech"
   ]
  },
  {
   "cell_type": "markdown",
   "metadata": {},
   "source": [
    "### Step 2: Parse the RSS Feed\n",
    "Here’s a Python script that parses the RSS feed, finds audio files, and downloads them."
   ]
  },
  {
   "cell_type": "code",
   "execution_count": null,
   "metadata": {
    "vscode": {
     "languageId": "plaintext"
    }
   },
   "outputs": [],
   "source": [
    "import feedparser\n",
    "import requests\n",
    "import os\n",
    "\n",
    "def download_podcast_episodes(rss_url, download_folder=\"podcast_episodes\"):\n",
    "    # Parse RSS feed\n",
    "    feed = feedparser.parse(rss_url)\n",
    "    \n",
    "    # Create folder if it doesn't exist\n",
    "    os.makedirs(download_folder, exist_ok=True)\n",
    "    \n",
    "    for entry in feed.entries:\n",
    "        # Find the audio file in the entry\n",
    "        if 'enclosures' in entry and entry.enclosures:\n",
    "            audio_url = entry.enclosures[0].href\n",
    "            audio_filename = os.path.join(download_folder, f\"{entry.title}.mp3\")\n",
    "            \n",
    "            # Download the audio file\n",
    "            print(f\"Downloading: {audio_url}\")\n",
    "            response = requests.get(audio_url)\n",
    "            with open(audio_filename, 'wb') as file:\n",
    "                file.write(response.content)\n",
    "            print(f\"Downloaded to: {audio_filename}\")\n",
    "    \n",
    "    print(\"All episodes downloaded.\")\n",
    "    return download_folder\n"
   ]
  },
  {
   "cell_type": "markdown",
   "metadata": {},
   "source": [
    "### Step 3: Set Up Transcription (Google Cloud Speech-to-Text)\n",
    "If you’d like to use Google Cloud Speech-to-Text, ensure you’ve created a Google Cloud project and enabled the Speech-to-Text API. Download the JSON credentials and set up authentication:"
   ]
  },
  {
   "cell_type": "code",
   "execution_count": null,
   "metadata": {
    "vscode": {
     "languageId": "plaintext"
    }
   },
   "outputs": [],
   "source": [
    "export GOOGLE_APPLICATION_CREDENTIALS=\"path_to_your_credentials.json\"\n"
   ]
  },
  {
   "cell_type": "markdown",
   "metadata": {},
   "source": [
    "Here’s a function to transcribe each audio file:"
   ]
  },
  {
   "cell_type": "code",
   "execution_count": null,
   "metadata": {
    "vscode": {
     "languageId": "plaintext"
    }
   },
   "outputs": [],
   "source": [
    "from google.cloud import speech\n",
    "import io\n",
    "\n",
    "def transcribe_audio(file_path):\n",
    "    client = speech.SpeechClient()\n",
    "\n",
    "    # Load audio file\n",
    "    with io.open(file_path, \"rb\") as audio_file:\n",
    "        content = audio_file.read()\n",
    "\n",
    "    audio = speech.RecognitionAudio(content=content)\n",
    "    config = speech.RecognitionConfig(\n",
    "        encoding=speech.RecognitionConfig.AudioEncoding.MP3,\n",
    "        language_code=\"en-US\"  # Change to the language of the podcast\n",
    "    )\n",
    "\n",
    "    # Transcribe the audio\n",
    "    response = client.recognize(config=config, audio=audio)\n",
    "\n",
    "    # Join transcriptions\n",
    "    transcript = \"\"\n",
    "    for result in response.results:\n",
    "        transcript += result.alternatives[0].transcript + \"\\n\"\n",
    "    \n",
    "    return transcript\n"
   ]
  },
  {
   "cell_type": "markdown",
   "metadata": {},
   "source": [
    "### Step 4: Integrate Everything\n",
    "Here’s a full script that downloads audio episodes from an RSS feed and transcribes each one."
   ]
  },
  {
   "cell_type": "code",
   "execution_count": null,
   "metadata": {
    "vscode": {
     "languageId": "plaintext"
    }
   },
   "outputs": [],
   "source": [
    "def process_podcast(rss_url):\n",
    "    download_folder = download_podcast_episodes(rss_url)\n",
    "    for filename in os.listdir(download_folder):\n",
    "        if filename.endswith(\".mp3\"):\n",
    "            file_path = os.path.join(download_folder, filename)\n",
    "            print(f\"Transcribing: {file_path}\")\n",
    "            transcript = transcribe_audio(file_path)\n",
    "            \n",
    "            # Save the transcript\n",
    "            transcript_file = f\"{file_path}.txt\"\n",
    "            with open(transcript_file, \"w\") as file:\n",
    "                file.write(transcript)\n",
    "            print(f\"Transcript saved to: {transcript_file}\")\n",
    "\n",
    "rss_url = \"YOUR_PODCAST_RSS_FEED_URL\"\n",
    "process_podcast(rss_url)\n"
   ]
  }
 ],
 "metadata": {
  "language_info": {
   "name": "python"
  }
 },
 "nbformat": 4,
 "nbformat_minor": 2
}
