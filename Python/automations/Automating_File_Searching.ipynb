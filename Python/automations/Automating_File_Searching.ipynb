{
 "cells": [
  {
   "cell_type": "markdown",
   "metadata": {},
   "source": [
    "Automating File Searching with glob\n",
    "\n",
    "Python’s glob module provides a way to search for files and directories using wildcard patterns. You can automate the process of searching for files based on specific patterns.\n",
    "\n",
    "Example: Searching for Files with a Specific Extension\n",
    "Suppose you want to search for all files with a specific extension in a directory. Here’s how you can automate this task using the glob module:\n",
    "\n",
    "This code snippet defines the directory in which to search for files and the desired file extension.It uses the glob.glob() function to search for files matching the specified pattern. The pattern is constructed by concatenating the directory path and the extension wildcard pattern.The matching files are stored in the files list. Finally, it iterates over the list of matching files and prints each file path."
   ]
  },
  {
   "cell_type": "code",
   "execution_count": 4,
   "metadata": {},
   "outputs": [
    {
     "name": "stdout",
     "output_type": "stream",
     "text": [
      "/Users/ulrike_imac_air/projects/analysis_my_life/data/daily_activities_datascience-01.csv\n"
     ]
    }
   ],
   "source": [
    "import glob\n",
    "\n",
    "# Directory to search in\n",
    "directory = 'your file here'\n",
    "\n",
    "# Search for files with a specific extension\n",
    "extension = '*.csv'\n",
    "files = glob.glob(directory + '/' + extension)\n",
    "\n",
    "# Print the matching files\n",
    "for file in files:\n",
    "    print(file)"
   ]
  }
 ],
 "metadata": {
  "kernelspec": {
   "display_name": "myenv",
   "language": "python",
   "name": "python3"
  },
  "language_info": {
   "codemirror_mode": {
    "name": "ipython",
    "version": 3
   },
   "file_extension": ".py",
   "mimetype": "text/x-python",
   "name": "python",
   "nbconvert_exporter": "python",
   "pygments_lexer": "ipython3",
   "version": "3.12.3"
  }
 },
 "nbformat": 4,
 "nbformat_minor": 2
}
