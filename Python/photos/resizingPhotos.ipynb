{
 "cells": [
  {
   "cell_type": "markdown",
   "id": "7ebe2a62",
   "metadata": {},
   "source": [
    "Python code to resize an image so that has good quality for social media. The photos are in a folder in png format."
   ]
  },
  {
   "cell_type": "code",
   "execution_count": null,
   "id": "4850b8b6",
   "metadata": {},
   "outputs": [
    {
     "name": "stdout",
     "output_type": "stream",
     "text": [
      "All images have been resized and saved to /Users/ulrike_imac_air/Library/CloudStorage/OneDrive-Personal/Photos/2025_Lightroom/Grainau_2025_resized\n"
     ]
    }
   ],
   "source": [
    "# Import required libraries\n",
    "from PIL import Image\n",
    "import os\n",
    "\n",
    "# Set the folder containing PNG images\n",
    "input_folder = '/2025_Lightroom/Grainau_2025 copy'  # Change this to your folder path\n",
    "output_folder = '/2025_Lightroom/Grainau_2025_resized'\n",
    "os.makedirs(output_folder, exist_ok=True)\n",
    "\n",
    "# Define target size for social media (e.g., Instagram: 1080x1080)\n",
    "target_size = (1080, 1080)\n",
    "\n",
    "def resize_image(input_path, output_path, size):\n",
    "    with Image.open(input_path) as img:\n",
    "        img = img.convert('RGB')\n",
    "        img.thumbnail(size, Image.LANCZOS)\n",
    "        # Create a new image with white background\n",
    "        new_img = Image.new('RGB', size, (255, 255, 255))\n",
    "        # Center the image\n",
    "        left = (size[0] - img.width) // 2\n",
    "        top = (size[1] - img.height) // 2\n",
    "        new_img.paste(img, (left, top))\n",
    "        new_img.save(output_path, 'JPEG', quality=95)\n",
    "\n",
    "# Process all PNG images in the folder\n",
    "for filename in os.listdir(input_folder):\n",
    "    if filename.lower().endswith('.png'):\n",
    "        input_path = os.path.join(input_folder, filename)\n",
    "        output_path = os.path.join(output_folder, os.path.splitext(filename)[0] + '_resized.jpg')\n",
    "        resize_image(input_path, output_path, target_size)\n",
    "\n",
    "print('All images have been resized and saved to', output_folder)"
   ]
  },
  {
   "cell_type": "code",
   "execution_count": null,
   "id": "56280143",
   "metadata": {},
   "outputs": [],
   "source": [
    "resizing images for a good printing quality. Max size for printing is A2\n",
    "Note: The above script resizes images for social media."
   ]
  },
  {
   "cell_type": "markdown",
   "id": "668f6e05",
   "metadata": {},
   "source": []
  },
  {
   "cell_type": "markdown",
   "id": "01f92606",
   "metadata": {},
   "source": [
    "Resizing images for high-quality A2 printing (max size). A2 at 300 DPI is about 7016 x 4961 pixels. This script will resize images to fit within these dimensions, preserving aspect ratio, and save them as high-quality JPEGs."
   ]
  },
  {
   "cell_type": "code",
   "execution_count": null,
   "id": "a14fd89b",
   "metadata": {},
   "outputs": [
    {
     "name": "stdout",
     "output_type": "stream",
     "text": [
      "All images have been resized for A2 printing and saved to /Users/ulrike_imac_air/Library/CloudStorage/OneDrive-Personal/Photos/2025_Lightroom/Grainau_2025_A2print\n"
     ]
    }
   ],
   "source": [
    "from PIL import Image\n",
    "import os\n",
    "\n",
    "# Set the folder containing PNG images\n",
    "input_folder = '/2025_Lightroom/Grainau_2025 copy'  # Change if needed\n",
    "output_folder = '2025_Lightroom/Grainau_2025_A2print'\n",
    "os.makedirs(output_folder, exist_ok=True)\n",
    "\n",
    "# A2 size at 300 DPI (landscape): 7016 x 4961 pixels\n",
    "max_size = (7016, 4961)\n",
    "\n",
    "def resize_for_print(input_path, output_path, max_size):\n",
    "    with Image.open(input_path) as img:\n",
    "        img = img.convert('RGB')\n",
    "        img.thumbnail(max_size, Image.LANCZOS)\n",
    "        img.save(output_path, 'JPEG', quality=100)\n",
    "\n",
    "for filename in os.listdir(input_folder):\n",
    "    if filename.lower().endswith('.png'):\n",
    "        input_path = os.path.join(input_folder, filename)\n",
    "        output_path = os.path.join(output_folder, os.path.splitext(filename)[0] + '_A2print.jpg')\n",
    "        resize_for_print(input_path, output_path, max_size)\n",
    "\n",
    "print('All images have been resized for A2 printing and saved to', output_folder)"
   ]
  },
  {
   "cell_type": "markdown",
   "id": "fd5c8908",
   "metadata": {},
   "source": [
    "Resizing images for a good quality for background images on desktop."
   ]
  },
  {
   "cell_type": "code",
   "execution_count": null,
   "id": "261f2066",
   "metadata": {},
   "outputs": [],
   "source": []
  },
  {
   "cell_type": "markdown",
   "id": "2daa7f99",
   "metadata": {},
   "source": [
    "Resizing images for high-quality desktop backgrounds. This script will resize images to fit within 3840 x 2160 pixels (4K UHD), preserving aspect ratio, and save them as high-quality JPEGs."
   ]
  },
  {
   "cell_type": "code",
   "execution_count": null,
   "id": "5414aedd",
   "metadata": {},
   "outputs": [
    {
     "name": "stdout",
     "output_type": "stream",
     "text": [
      "All images have been resized for desktop backgrounds and saved to /Users/ulrike_imac_air/Library/CloudStorage/OneDrive-Personal/Photos/2025_Lightroom/Grainau_2025_desktopBG\n"
     ]
    }
   ],
   "source": [
    "from PIL import Image\n",
    "import os\n",
    "\n",
    "# Set the folder containing PNG images\n",
    "input_folder = '2025_Lightroom/Grainau_2025 copy'  # Change if needed\n",
    "output_folder = '2025_Lightroom/Grainau_2025_desktopBG'\n",
    "os.makedirs(output_folder, exist_ok=True)\n",
    "\n",
    "# Desktop background size (4K UHD): 3840 x 2160 pixels\n",
    "bg_size = (3840, 2160)\n",
    "\n",
    "def resize_for_desktop_bg(input_path, output_path, bg_size):\n",
    "    with Image.open(input_path) as img:\n",
    "        img = img.convert('RGB')\n",
    "        img.thumbnail(bg_size, Image.LANCZOS)\n",
    "        img.save(output_path, 'JPEG', quality=95)\n",
    "\n",
    "for filename in os.listdir(input_folder):\n",
    "    if filename.lower().endswith('.png'):\n",
    "        input_path = os.path.join(input_folder, filename)\n",
    "        output_path = os.path.join(output_folder, os.path.splitext(filename)[0] + '_desktopBG.jpg')\n",
    "        resize_for_desktop_bg(input_path, output_path, bg_size)\n",
    "\n",
    "print('All images have been resized for desktop backgrounds and saved to', output_folder)"
   ]
  }
 ],
 "metadata": {
  "kernelspec": {
   "display_name": "code_env",
   "language": "python",
   "name": "python3"
  },
  "language_info": {
   "codemirror_mode": {
    "name": "ipython",
    "version": 3
   },
   "file_extension": ".py",
   "mimetype": "text/x-python",
   "name": "python",
   "nbconvert_exporter": "python",
   "pygments_lexer": "ipython3",
   "version": "3.13.3"
  }
 },
 "nbformat": 4,
 "nbformat_minor": 5
}
