{
 "cells": [
  {
   "cell_type": "markdown",
   "id": "7ebe2a62",
   "metadata": {},
   "source": [
    "Python code to resize an image so that has good quality for social media. The photos are in a folder in png format."
   ]
  },
  {
   "cell_type": "code",
   "execution_count": null,
   "id": "4850b8b6",
   "metadata": {
    "vscode": {
     "languageId": "plaintext"
    }
   },
   "outputs": [],
   "source": [
    "# Import required libraries\n",
    "from PIL import Image\n",
    "import os\n",
    "\n",
    "# Set the folder containing PNG images\n",
    "input_folder = '/Users/ulrike_imac_air/Library/CloudStorage/OneDrive-Personal/Photos/2025_Lightroom/Grainau_2025 copy'  # Change this to your folder path\n",
    "output_folder = '/Users/ulrike_imac_air/Library/CloudStorage/OneDrive-Personal/Photos/2025_Lightroom/Grainau_2025_resized'\n",
    "os.makedirs(output_folder, exist_ok=True)\n",
    "\n",
    "# Define target size for social media (e.g., Instagram: 1080x1080)\n",
    "target_size = (1080, 1080)\n",
    "\n",
    "def resize_image(input_path, output_path, size):\n",
    "    with Image.open(input_path) as img:\n",
    "        img = img.convert('RGB')\n",
    "        img.thumbnail(size, Image.LANCZOS)\n",
    "        # Create a new image with white background\n",
    "        new_img = Image.new('RGB', size, (255, 255, 255))\n",
    "        # Center the image\n",
    "        left = (size[0] - img.width) // 2\n",
    "        top = (size[1] - img.height) // 2\n",
    "        new_img.paste(img, (left, top))\n",
    "        new_img.save(output_path, 'JPEG', quality=95)\n",
    "\n",
    "# Process all PNG images in the folder\n",
    "for filename in os.listdir(input_folder):\n",
    "    if filename.lower().endswith('.png'):\n",
    "        input_path = os.path.join(input_folder, filename)\n",
    "        output_path = os.path.join(output_folder, os.path.splitext(filename)[0] + '_resized.jpg')\n",
    "        resize_image(input_path, output_path, target_size)\n",
    "\n",
    "print('All images have been resized and saved to', output_folder)"
   ]
  }
 ],
 "metadata": {
  "language_info": {
   "name": "python"
  }
 },
 "nbformat": 4,
 "nbformat_minor": 5
}
