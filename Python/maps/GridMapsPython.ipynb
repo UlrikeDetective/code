{
 "cells": [
  {
   "cell_type": "markdown",
   "id": "974c8df1",
   "metadata": {},
   "source": [
    "# Easy Tile Grid Maps with Python and Plotly\n",
    "### A reusable template for a popular infographic\n",
    "### by Lee Vaughan\n",
    "\n",
    "A tile grid map in the shape of the USA is composed of red and blue squares representing states. The colors represent the 2024 US presidential election results, with blue being won by Harris and red by Trump.\n",
    "Tile grid map of 2024 US presidential election results (Red=Trump; Blue=Harris) (by author)\n",
    "Have you ever wondered how professional data journalists craft those clean, instantly understandable maps that anchor major stories? Their secret is often the tile grid map. This technique creates memorable graphics that make data pop.\n",
    "\n",
    "A tile grid map is a data visualization that transforms irregular geographic shapes into uniform, equally sized tiles — generally squares or hexagons. This approach is favored by leading news outlets such as The Economist, The New York Times, and The Washington Post when visual clarity and balance are more important than strict geographic detail.\n",
    "\n",
    "Tile grid maps serve a similar purpose to choropleth maps, where states (or other geographical regions) are colored or shaded to represent a unique statistical value, such as population. A drawback to US choropleth maps is that large states visually dominate the plot, and small states can be lost altogether.\n",
    "\n",
    "A choropleth map of the USA with states colored in greens and browns denoting energy costs per state.\n",
    "A choropleth map of energy costs is visually dominated by large states (Source: Wikimedia Commons)\n",
    "By replacing traditional choropleth maps with a grid of consistent shapes, tile grid maps eliminate visual imbalances that can distract from the underlying data. The streamlined design also promotes quick, at-a-glance comprehension, even when publishing constraints limit available space.\n",
    "\n",
    "Data journalists frequently employ tile grid maps to emphasize comparisons and identify regional patterns. This includes electoral maps and similar infographics where maintaining a simple and uniform visual structure is key.\n",
    "\n",
    "Here’s an example addressing abortion access. Notice how tiny Rhode Island carries as much weight as mighty Texas:\n",
    "\n",
    "A tile grid map composed of red, green, and orange squares representing US states shows abortion access levels in the USA. Green denotes legal as per Roe vs Wade, Orange is legal with some limits, and Red is banned.\n",
    "Tile grid map of abortion access (by author)\n",
    "In this Quick Success Data Science project, I provide a ready-to-use template for generating US tile grid maps, with examples using Python and the Plotly graphing library. This guide not only walks you through the process but also demonstrates how harnessing the power of simple visuals can elevate your data storytelling.\n",
    "\n",
    "The Template\n",
    "The tile grid template is a CSV file with columns for the state name, state abbreviation, and X and Y coordinates. The coordinates aren’t geospatial but Cartesian, with an origin point at the lower left.\n",
    "\n",
    "A view of a CSV file with 4 columns.\n",
    "The top 15 rows of states_square_tile_template.csv (by author)\n",
    "Later in the code, we’ll use the X and Y values as the centers of squares representing each state. Then we’ll annotate the squares using the “Abbr” (abbreviation) column values. Here’s how it looks with a reference grid displayed:\n",
    "\n",
    "A tile grid map composed of squares in the rough shape of the USA is displayed over a Cartesian coordinate grid system. Each square represents a single state.\n",
    "The template with its reference grid (by author)\n",
    "You can download the file (states_square_tile_template.csv) from this Gist. Use it by adding a column representing your data values for each state (the states are sorted alphabetically, without the District of Columbia (DC)).\n",
    "\n",
    "Next, we’ll look at two examples — one categorical and one continuous — that show you how to apply the template.\n",
    "\n",
    "Third-party Libraries\n",
    "Besides Python, you’ll need to install Plotly and pandas. Plotly makes it easy to create tile grid maps and includes a dynamic “hover” feature that launches a pop-up window of additional data whenever the cursor is placed over a tile.\n",
    "\n",
    "Plotly is designed to work with pandas, Python’s most popular data analysis library. You can install both at the same time using pip:\n",
    "\n",
    "pip install plotly pandas\n",
    "\n",
    "At the time of this writing, I used pandas version 2.0.3 and Plotly version 5.24.1.\n",
    "\n",
    "Categorical Code\n",
    "The following code example creates a tile grid map of categorical values, in this case, binary state income tax status:\n",
    "\n",
    "A tile grid map in the shape of the USA is composed of pink and gray squares representing states. Pink states have state income tax while gray states do not.\n",
    "Tile grid map of state income tax status (by author)\n",
    "While the map uses two categories (state tax or no state tax), it can be easily adapted for multiple categories, such as those used in the previous abortion access map. The tile template and associated data columns are imported programmatically from the same GIST that holds the template file.\n",
    "\n",
    "Here’s the full code. I’ll discuss it in more detail in the following sections."
   ]
  },
  {
   "cell_type": "code",
   "execution_count": 7,
   "id": "a43ae9b8",
   "metadata": {},
   "outputs": [
    {
     "name": "stdout",
     "output_type": "stream",
     "text": [
      "/Users/ulrike_imac_air/projects/code/code_env/bin/python\n",
      "Name: nbformat\n",
      "Version: 5.10.4\n",
      "Summary: The Jupyter Notebook format\n",
      "Home-page: https://jupyter.org\n",
      "Author: \n",
      "Author-email: Jupyter Development Team <jupyter@googlegroups.com>\n",
      "License: BSD 3-Clause License\n",
      "\n",
      "- Copyright (c) 2001-2015, IPython Development Team\n",
      "- Copyright (c) 2015-, Jupyter Development Team\n",
      "\n",
      "All rights reserved.\n",
      "\n",
      "Redistribution and use in source and binary forms, with or without\n",
      "modification, are permitted provided that the following conditions are met:\n",
      "\n",
      "1. Redistributions of source code must retain the above copyright notice, this\n",
      "   list of conditions and the following disclaimer.\n",
      "\n",
      "2. Redistributions in binary form must reproduce the above copyright notice,\n",
      "   this list of conditions and the following disclaimer in the documentation\n",
      "   and/or other materials provided with the distribution.\n",
      "\n",
      "3. Neither the name of the copyright holder nor the names of its\n",
      "   contributors may be used to endorse or promote products derived from\n",
      "   this software without specific prior written permission.\n",
      "\n",
      "THIS SOFTWARE IS PROVIDED BY THE COPYRIGHT HOLDERS AND CONTRIBUTORS \"AS IS\"\n",
      "AND ANY EXPRESS OR IMPLIED WARRANTIES, INCLUDING, BUT NOT LIMITED TO, THE\n",
      "IMPLIED WARRANTIES OF MERCHANTABILITY AND FITNESS FOR A PARTICULAR PURPOSE ARE\n",
      "DISCLAIMED. IN NO EVENT SHALL THE COPYRIGHT HOLDER OR CONTRIBUTORS BE LIABLE\n",
      "FOR ANY DIRECT, INDIRECT, INCIDENTAL, SPECIAL, EXEMPLARY, OR CONSEQUENTIAL\n",
      "DAMAGES (INCLUDING, BUT NOT LIMITED TO, PROCUREMENT OF SUBSTITUTE GOODS OR\n",
      "SERVICES; LOSS OF USE, DATA, OR PROFITS; OR BUSINESS INTERRUPTION) HOWEVER\n",
      "CAUSED AND ON ANY THEORY OF LIABILITY, WHETHER IN CONTRACT, STRICT LIABILITY,\n",
      "OR TORT (INCLUDING NEGLIGENCE OR OTHERWISE) ARISING IN ANY WAY OUT OF THE USE\n",
      "OF THIS SOFTWARE, EVEN IF ADVISED OF THE POSSIBILITY OF SUCH DAMAGE.\n",
      "Location: /Users/ulrike_imac_air/projects/code/code_env/lib/python3.13/site-packages\n",
      "Requires: fastjsonschema, jsonschema, jupyter-core, traitlets\n",
      "Required-by: \n",
      "Name: nbformat\n",
      "Version: 5.10.4\n",
      "Summary: The Jupyter Notebook format\n",
      "Home-page: https://jupyter.org\n",
      "Author: \n",
      "Author-email: Jupyter Development Team <jupyter@googlegroups.com>\n",
      "License: BSD 3-Clause License\n",
      "\n",
      "- Copyright (c) 2001-2015, IPython Development Team\n",
      "- Copyright (c) 2015-, Jupyter Development Team\n",
      "\n",
      "All rights reserved.\n",
      "\n",
      "Redistribution and use in source and binary forms, with or without\n",
      "modification, are permitted provided that the following conditions are met:\n",
      "\n",
      "1. Redistributions of source code must retain the above copyright notice, this\n",
      "   list of conditions and the following disclaimer.\n",
      "\n",
      "2. Redistributions in binary form must reproduce the above copyright notice,\n",
      "   this list of conditions and the following disclaimer in the documentation\n",
      "   and/or other materials provided with the distribution.\n",
      "\n",
      "3. Neither the name of the copyright holder nor the names of its\n",
      "   contributors may be used to endorse or promote products derived from\n",
      "   this software without specific prior written permission.\n",
      "\n",
      "THIS SOFTWARE IS PROVIDED BY THE COPYRIGHT HOLDERS AND CONTRIBUTORS \"AS IS\"\n",
      "AND ANY EXPRESS OR IMPLIED WARRANTIES, INCLUDING, BUT NOT LIMITED TO, THE\n",
      "IMPLIED WARRANTIES OF MERCHANTABILITY AND FITNESS FOR A PARTICULAR PURPOSE ARE\n",
      "DISCLAIMED. IN NO EVENT SHALL THE COPYRIGHT HOLDER OR CONTRIBUTORS BE LIABLE\n",
      "FOR ANY DIRECT, INDIRECT, INCIDENTAL, SPECIAL, EXEMPLARY, OR CONSEQUENTIAL\n",
      "DAMAGES (INCLUDING, BUT NOT LIMITED TO, PROCUREMENT OF SUBSTITUTE GOODS OR\n",
      "SERVICES; LOSS OF USE, DATA, OR PROFITS; OR BUSINESS INTERRUPTION) HOWEVER\n",
      "CAUSED AND ON ANY THEORY OF LIABILITY, WHETHER IN CONTRACT, STRICT LIABILITY,\n",
      "OR TORT (INCLUDING NEGLIGENCE OR OTHERWISE) ARISING IN ANY WAY OUT OF THE USE\n",
      "OF THIS SOFTWARE, EVEN IF ADVISED OF THE POSSIBILITY OF SUCH DAMAGE.\n",
      "Location: /Users/ulrike_imac_air/projects/code/code_env/lib/python3.13/site-packages\n",
      "Requires: fastjsonschema, jsonschema, jupyter-core, traitlets\n",
      "Required-by: \n",
      "Requirement already satisfied: nbformat in /Users/ulrike_imac_air/projects/code/code_env/lib/python3.13/site-packages (5.10.4)\n",
      "Requirement already satisfied: nbformat in /Users/ulrike_imac_air/projects/code/code_env/lib/python3.13/site-packages (5.10.4)\n",
      "Requirement already satisfied: fastjsonschema>=2.15 in /Users/ulrike_imac_air/projects/code/code_env/lib/python3.13/site-packages (from nbformat) (2.21.1)\n",
      "Requirement already satisfied: jsonschema>=2.6 in /Users/ulrike_imac_air/projects/code/code_env/lib/python3.13/site-packages (from nbformat) (4.23.0)\n",
      "Requirement already satisfied: jupyter-core!=5.0.*,>=4.12 in /Users/ulrike_imac_air/projects/code/code_env/lib/python3.13/site-packages (from nbformat) (5.7.2)\n",
      "Requirement already satisfied: traitlets>=5.1 in /Users/ulrike_imac_air/projects/code/code_env/lib/python3.13/site-packages (from nbformat) (5.14.3)\n",
      "Requirement already satisfied: attrs>=22.2.0 in /Users/ulrike_imac_air/projects/code/code_env/lib/python3.13/site-packages (from jsonschema>=2.6->nbformat) (25.3.0)\n",
      "Requirement already satisfied: jsonschema-specifications>=2023.03.6 in /Users/ulrike_imac_air/projects/code/code_env/lib/python3.13/site-packages (from jsonschema>=2.6->nbformat) (2025.4.1)\n",
      "Requirement already satisfied: referencing>=0.28.4 in /Users/ulrike_imac_air/projects/code/code_env/lib/python3.13/site-packages (from jsonschema>=2.6->nbformat) (0.36.2)\n",
      "Requirement already satisfied: rpds-py>=0.7.1 in /Users/ulrike_imac_air/projects/code/code_env/lib/python3.13/site-packages (from jsonschema>=2.6->nbformat) (0.24.0)\n",
      "Requirement already satisfied: platformdirs>=2.5 in /Users/ulrike_imac_air/projects/code/code_env/lib/python3.13/site-packages (from jupyter-core!=5.0.*,>=4.12->nbformat) (4.3.7)\n",
      "Requirement already satisfied: fastjsonschema>=2.15 in /Users/ulrike_imac_air/projects/code/code_env/lib/python3.13/site-packages (from nbformat) (2.21.1)\n",
      "Requirement already satisfied: jsonschema>=2.6 in /Users/ulrike_imac_air/projects/code/code_env/lib/python3.13/site-packages (from nbformat) (4.23.0)\n",
      "Requirement already satisfied: jupyter-core!=5.0.*,>=4.12 in /Users/ulrike_imac_air/projects/code/code_env/lib/python3.13/site-packages (from nbformat) (5.7.2)\n",
      "Requirement already satisfied: traitlets>=5.1 in /Users/ulrike_imac_air/projects/code/code_env/lib/python3.13/site-packages (from nbformat) (5.14.3)\n",
      "Requirement already satisfied: attrs>=22.2.0 in /Users/ulrike_imac_air/projects/code/code_env/lib/python3.13/site-packages (from jsonschema>=2.6->nbformat) (25.3.0)\n",
      "Requirement already satisfied: jsonschema-specifications>=2023.03.6 in /Users/ulrike_imac_air/projects/code/code_env/lib/python3.13/site-packages (from jsonschema>=2.6->nbformat) (2025.4.1)\n",
      "Requirement already satisfied: referencing>=0.28.4 in /Users/ulrike_imac_air/projects/code/code_env/lib/python3.13/site-packages (from jsonschema>=2.6->nbformat) (0.36.2)\n",
      "Requirement already satisfied: rpds-py>=0.7.1 in /Users/ulrike_imac_air/projects/code/code_env/lib/python3.13/site-packages (from jsonschema>=2.6->nbformat) (0.24.0)\n",
      "Requirement already satisfied: platformdirs>=2.5 in /Users/ulrike_imac_air/projects/code/code_env/lib/python3.13/site-packages (from jupyter-core!=5.0.*,>=4.12->nbformat) (4.3.7)\n"
     ]
    }
   ],
   "source": [
    "!which python  # Check the Python environment being used\n",
    "!pip show nbformat  # Check if nbformat is installed and its version\n",
    "!pip install --upgrade nbformat  # Install or upgrade nbformat"
   ]
  },
  {
   "cell_type": "code",
   "execution_count": 1,
   "id": "e95ccc38",
   "metadata": {},
   "outputs": [
    {
     "data": {
      "application/vnd.plotly.v1+json": {
       "config": {
        "plotlyServerURL": "https://plot.ly"
       },
       "data": [
        {
         "customdata": [
          [
           "Alabama",
           "Yes"
          ],
          [
           "Alaska",
           "No"
          ],
          [
           "Arizona",
           "Yes"
          ],
          [
           "Arkansas",
           "Yes"
          ],
          [
           "California",
           "Yes"
          ],
          [
           "Colorado",
           "Yes"
          ],
          [
           "Connecticut",
           "Yes"
          ],
          [
           "Delaware",
           "Yes"
          ],
          [
           "Florida",
           "No"
          ],
          [
           "Georgia",
           "Yes"
          ],
          [
           "Hawaii",
           "Yes"
          ],
          [
           "Idaho",
           "Yes"
          ],
          [
           "Illinois",
           "Yes"
          ],
          [
           "Indiana",
           "Yes"
          ],
          [
           "Iowa",
           "Yes"
          ],
          [
           "Kansas",
           "Yes"
          ],
          [
           "Kentucky",
           "Yes"
          ],
          [
           "Louisiana",
           "Yes"
          ],
          [
           "Maine",
           "Yes"
          ],
          [
           "Maryland",
           "Yes"
          ],
          [
           "Massachusetts",
           "Yes"
          ],
          [
           "Michigan",
           "Yes"
          ],
          [
           "Minnesota",
           "Yes"
          ],
          [
           "Mississippi",
           "Yes"
          ],
          [
           "Missouri",
           "Yes"
          ],
          [
           "Montana",
           "Yes"
          ],
          [
           "Nebraska",
           "Yes"
          ],
          [
           "Nevada",
           "No"
          ],
          [
           "New Hampshire",
           "No"
          ],
          [
           "New Jersey",
           "Yes"
          ],
          [
           "New Mexico",
           "Yes"
          ],
          [
           "New York",
           "Yes"
          ],
          [
           "North Carolina",
           "Yes"
          ],
          [
           "North Dakota",
           "Yes"
          ],
          [
           "Ohio",
           "Yes"
          ],
          [
           "Oklahoma",
           "Yes"
          ],
          [
           "Oregon",
           "Yes"
          ],
          [
           "Pennsylvania",
           "Yes"
          ],
          [
           "Rhode Island",
           "Yes"
          ],
          [
           "South Carolina",
           "Yes"
          ],
          [
           "South Dakota",
           "No"
          ],
          [
           "Tennessee",
           "No"
          ],
          [
           "Texas",
           "No"
          ],
          [
           "Utah",
           "Yes"
          ],
          [
           "Vermont",
           "Yes"
          ],
          [
           "Virginia",
           "Yes"
          ],
          [
           "Washington",
           "No"
          ],
          [
           "West Virginia",
           "Yes"
          ],
          [
           "Wisconsin",
           "Yes"
          ],
          [
           "Wyoming",
           "No"
          ]
         ],
         "hovertemplate": "State: %{customdata[0]}<br>X: %{x}<br>Y: %{y}<br>Data: %{customdata[1]}<extra></extra>",
         "mode": "text",
         "showlegend": false,
         "text": [
          "AL",
          "AK",
          "AZ",
          "AR",
          "CA",
          "CO",
          "CT",
          "DE",
          "FL",
          "GA",
          "HI",
          "ID",
          "IL",
          "IN",
          "IA",
          "KS",
          "KY",
          "LA",
          "ME",
          "MD",
          "MA",
          "MI",
          "MN",
          "MS",
          "MO",
          "MT",
          "NE",
          "NE",
          "NH",
          "NJ",
          "NM",
          "NY",
          "NC",
          "ND",
          "OH",
          "OK",
          "OR",
          "PA",
          "RI",
          "SC",
          "SD",
          "TN",
          "TX",
          "UT",
          "VT",
          "VA",
          "WA",
          "WV",
          "WI",
          "WY"
         ],
         "textfont": {
          "color": "black",
          "family": "Arial",
          "size": 16
         },
         "type": "scatter",
         "x": {
          "bdata": "BwACBQEDCgoJCAACBgYFBAcFCwkKBwUGBQMEAgsJAwkJBAcEAQgLCAQGBAIKCAEHBgM=",
          "dtype": "i1"
         },
         "y": {
          "bdata": "AQcCAgMDBAMAAQEFBAMEAgIBBwMFBQUBAwUDAwYEAgUCBQQBBAQFAgQCAAQGAwUDBQQ=",
          "dtype": "i1"
         }
        },
        {
         "marker": {
          "color": "pink",
          "line": {
           "color": "pink",
           "width": 2
          },
          "size": 15,
          "symbol": "square"
         },
         "mode": "markers",
         "name": "<b>State Income Tax</b>",
         "type": "scatter",
         "x": [
          null
         ],
         "y": [
          null
         ]
        },
        {
         "marker": {
          "color": "lightgray",
          "line": {
           "color": "lightgray",
           "width": 2
          },
          "size": 15,
          "symbol": "square"
         },
         "mode": "markers",
         "name": "<b>No State Income Tax</b>",
         "type": "scatter",
         "x": [
          null
         ],
         "y": [
          null
         ]
        }
       ],
       "layout": {
        "annotations": [
         {
          "font": {
           "color": "black",
           "size": 12
          },
          "showarrow": false,
          "text": "<i>Source: Investopedia.com</i>",
          "x": 0,
          "xref": "paper",
          "y": -0.1,
          "yref": "paper"
         }
        ],
        "height": 500,
        "legend": {
         "x": 0.95
        },
        "plot_bgcolor": "white",
        "shapes": [
         {
          "fillcolor": "pink",
          "layer": "below",
          "line": {
           "color": "white"
          },
          "type": "rect",
          "x0": 6.5,
          "x1": 7.5,
          "y0": 0.5,
          "y1": 1.5
         },
         {
          "fillcolor": "lightgray",
          "layer": "below",
          "line": {
           "color": "white"
          },
          "type": "rect",
          "x0": -0.5,
          "x1": 0.5,
          "y0": 6.5,
          "y1": 7.5
         },
         {
          "fillcolor": "pink",
          "layer": "below",
          "line": {
           "color": "white"
          },
          "type": "rect",
          "x0": 1.5,
          "x1": 2.5,
          "y0": 1.5,
          "y1": 2.5
         },
         {
          "fillcolor": "pink",
          "layer": "below",
          "line": {
           "color": "white"
          },
          "type": "rect",
          "x0": 4.5,
          "x1": 5.5,
          "y0": 1.5,
          "y1": 2.5
         },
         {
          "fillcolor": "pink",
          "layer": "below",
          "line": {
           "color": "white"
          },
          "type": "rect",
          "x0": 0.5,
          "x1": 1.5,
          "y0": 2.5,
          "y1": 3.5
         },
         {
          "fillcolor": "pink",
          "layer": "below",
          "line": {
           "color": "white"
          },
          "type": "rect",
          "x0": 2.5,
          "x1": 3.5,
          "y0": 2.5,
          "y1": 3.5
         },
         {
          "fillcolor": "pink",
          "layer": "below",
          "line": {
           "color": "white"
          },
          "type": "rect",
          "x0": 9.5,
          "x1": 10.5,
          "y0": 3.5,
          "y1": 4.5
         },
         {
          "fillcolor": "pink",
          "layer": "below",
          "line": {
           "color": "white"
          },
          "type": "rect",
          "x0": 9.5,
          "x1": 10.5,
          "y0": 2.5,
          "y1": 3.5
         },
         {
          "fillcolor": "lightgray",
          "layer": "below",
          "line": {
           "color": "white"
          },
          "type": "rect",
          "x0": 8.5,
          "x1": 9.5,
          "y0": -0.5,
          "y1": 0.5
         },
         {
          "fillcolor": "pink",
          "layer": "below",
          "line": {
           "color": "white"
          },
          "type": "rect",
          "x0": 7.5,
          "x1": 8.5,
          "y0": 0.5,
          "y1": 1.5
         },
         {
          "fillcolor": "pink",
          "layer": "below",
          "line": {
           "color": "white"
          },
          "type": "rect",
          "x0": -0.5,
          "x1": 0.5,
          "y0": 0.5,
          "y1": 1.5
         },
         {
          "fillcolor": "pink",
          "layer": "below",
          "line": {
           "color": "white"
          },
          "type": "rect",
          "x0": 1.5,
          "x1": 2.5,
          "y0": 4.5,
          "y1": 5.5
         },
         {
          "fillcolor": "pink",
          "layer": "below",
          "line": {
           "color": "white"
          },
          "type": "rect",
          "x0": 5.5,
          "x1": 6.5,
          "y0": 3.5,
          "y1": 4.5
         },
         {
          "fillcolor": "pink",
          "layer": "below",
          "line": {
           "color": "white"
          },
          "type": "rect",
          "x0": 5.5,
          "x1": 6.5,
          "y0": 2.5,
          "y1": 3.5
         },
         {
          "fillcolor": "pink",
          "layer": "below",
          "line": {
           "color": "white"
          },
          "type": "rect",
          "x0": 4.5,
          "x1": 5.5,
          "y0": 3.5,
          "y1": 4.5
         },
         {
          "fillcolor": "pink",
          "layer": "below",
          "line": {
           "color": "white"
          },
          "type": "rect",
          "x0": 3.5,
          "x1": 4.5,
          "y0": 1.5,
          "y1": 2.5
         },
         {
          "fillcolor": "pink",
          "layer": "below",
          "line": {
           "color": "white"
          },
          "type": "rect",
          "x0": 6.5,
          "x1": 7.5,
          "y0": 1.5,
          "y1": 2.5
         },
         {
          "fillcolor": "pink",
          "layer": "below",
          "line": {
           "color": "white"
          },
          "type": "rect",
          "x0": 4.5,
          "x1": 5.5,
          "y0": 0.5,
          "y1": 1.5
         },
         {
          "fillcolor": "pink",
          "layer": "below",
          "line": {
           "color": "white"
          },
          "type": "rect",
          "x0": 10.5,
          "x1": 11.5,
          "y0": 6.5,
          "y1": 7.5
         },
         {
          "fillcolor": "pink",
          "layer": "below",
          "line": {
           "color": "white"
          },
          "type": "rect",
          "x0": 8.5,
          "x1": 9.5,
          "y0": 2.5,
          "y1": 3.5
         },
         {
          "fillcolor": "pink",
          "layer": "below",
          "line": {
           "color": "white"
          },
          "type": "rect",
          "x0": 9.5,
          "x1": 10.5,
          "y0": 4.5,
          "y1": 5.5
         },
         {
          "fillcolor": "pink",
          "layer": "below",
          "line": {
           "color": "white"
          },
          "type": "rect",
          "x0": 6.5,
          "x1": 7.5,
          "y0": 4.5,
          "y1": 5.5
         },
         {
          "fillcolor": "pink",
          "layer": "below",
          "line": {
           "color": "white"
          },
          "type": "rect",
          "x0": 4.5,
          "x1": 5.5,
          "y0": 4.5,
          "y1": 5.5
         },
         {
          "fillcolor": "pink",
          "layer": "below",
          "line": {
           "color": "white"
          },
          "type": "rect",
          "x0": 5.5,
          "x1": 6.5,
          "y0": 0.5,
          "y1": 1.5
         },
         {
          "fillcolor": "pink",
          "layer": "below",
          "line": {
           "color": "white"
          },
          "type": "rect",
          "x0": 4.5,
          "x1": 5.5,
          "y0": 2.5,
          "y1": 3.5
         },
         {
          "fillcolor": "pink",
          "layer": "below",
          "line": {
           "color": "white"
          },
          "type": "rect",
          "x0": 2.5,
          "x1": 3.5,
          "y0": 4.5,
          "y1": 5.5
         },
         {
          "fillcolor": "pink",
          "layer": "below",
          "line": {
           "color": "white"
          },
          "type": "rect",
          "x0": 3.5,
          "x1": 4.5,
          "y0": 2.5,
          "y1": 3.5
         },
         {
          "fillcolor": "lightgray",
          "layer": "below",
          "line": {
           "color": "white"
          },
          "type": "rect",
          "x0": 1.5,
          "x1": 2.5,
          "y0": 2.5,
          "y1": 3.5
         },
         {
          "fillcolor": "lightgray",
          "layer": "below",
          "line": {
           "color": "white"
          },
          "type": "rect",
          "x0": 10.5,
          "x1": 11.5,
          "y0": 5.5,
          "y1": 6.5
         },
         {
          "fillcolor": "pink",
          "layer": "below",
          "line": {
           "color": "white"
          },
          "type": "rect",
          "x0": 8.5,
          "x1": 9.5,
          "y0": 3.5,
          "y1": 4.5
         },
         {
          "fillcolor": "pink",
          "layer": "below",
          "line": {
           "color": "white"
          },
          "type": "rect",
          "x0": 2.5,
          "x1": 3.5,
          "y0": 1.5,
          "y1": 2.5
         },
         {
          "fillcolor": "pink",
          "layer": "below",
          "line": {
           "color": "white"
          },
          "type": "rect",
          "x0": 8.5,
          "x1": 9.5,
          "y0": 4.5,
          "y1": 5.5
         },
         {
          "fillcolor": "pink",
          "layer": "below",
          "line": {
           "color": "white"
          },
          "type": "rect",
          "x0": 8.5,
          "x1": 9.5,
          "y0": 1.5,
          "y1": 2.5
         },
         {
          "fillcolor": "pink",
          "layer": "below",
          "line": {
           "color": "white"
          },
          "type": "rect",
          "x0": 3.5,
          "x1": 4.5,
          "y0": 4.5,
          "y1": 5.5
         },
         {
          "fillcolor": "pink",
          "layer": "below",
          "line": {
           "color": "white"
          },
          "type": "rect",
          "x0": 6.5,
          "x1": 7.5,
          "y0": 3.5,
          "y1": 4.5
         },
         {
          "fillcolor": "pink",
          "layer": "below",
          "line": {
           "color": "white"
          },
          "type": "rect",
          "x0": 3.5,
          "x1": 4.5,
          "y0": 0.5,
          "y1": 1.5
         },
         {
          "fillcolor": "pink",
          "layer": "below",
          "line": {
           "color": "white"
          },
          "type": "rect",
          "x0": 0.5,
          "x1": 1.5,
          "y0": 3.5,
          "y1": 4.5
         },
         {
          "fillcolor": "pink",
          "layer": "below",
          "line": {
           "color": "white"
          },
          "type": "rect",
          "x0": 7.5,
          "x1": 8.5,
          "y0": 3.5,
          "y1": 4.5
         },
         {
          "fillcolor": "pink",
          "layer": "below",
          "line": {
           "color": "white"
          },
          "type": "rect",
          "x0": 10.5,
          "x1": 11.5,
          "y0": 4.5,
          "y1": 5.5
         },
         {
          "fillcolor": "pink",
          "layer": "below",
          "line": {
           "color": "white"
          },
          "type": "rect",
          "x0": 7.5,
          "x1": 8.5,
          "y0": 1.5,
          "y1": 2.5
         },
         {
          "fillcolor": "lightgray",
          "layer": "below",
          "line": {
           "color": "white"
          },
          "type": "rect",
          "x0": 3.5,
          "x1": 4.5,
          "y0": 3.5,
          "y1": 4.5
         },
         {
          "fillcolor": "lightgray",
          "layer": "below",
          "line": {
           "color": "white"
          },
          "type": "rect",
          "x0": 5.5,
          "x1": 6.5,
          "y0": 1.5,
          "y1": 2.5
         },
         {
          "fillcolor": "lightgray",
          "layer": "below",
          "line": {
           "color": "white"
          },
          "type": "rect",
          "x0": 3.5,
          "x1": 4.5,
          "y0": -0.5,
          "y1": 0.5
         },
         {
          "fillcolor": "pink",
          "layer": "below",
          "line": {
           "color": "white"
          },
          "type": "rect",
          "x0": 1.5,
          "x1": 2.5,
          "y0": 3.5,
          "y1": 4.5
         },
         {
          "fillcolor": "pink",
          "layer": "below",
          "line": {
           "color": "white"
          },
          "type": "rect",
          "x0": 9.5,
          "x1": 10.5,
          "y0": 5.5,
          "y1": 6.5
         },
         {
          "fillcolor": "pink",
          "layer": "below",
          "line": {
           "color": "white"
          },
          "type": "rect",
          "x0": 7.5,
          "x1": 8.5,
          "y0": 2.5,
          "y1": 3.5
         },
         {
          "fillcolor": "lightgray",
          "layer": "below",
          "line": {
           "color": "white"
          },
          "type": "rect",
          "x0": 0.5,
          "x1": 1.5,
          "y0": 4.5,
          "y1": 5.5
         },
         {
          "fillcolor": "pink",
          "layer": "below",
          "line": {
           "color": "white"
          },
          "type": "rect",
          "x0": 6.5,
          "x1": 7.5,
          "y0": 2.5,
          "y1": 3.5
         },
         {
          "fillcolor": "pink",
          "layer": "below",
          "line": {
           "color": "white"
          },
          "type": "rect",
          "x0": 5.5,
          "x1": 6.5,
          "y0": 4.5,
          "y1": 5.5
         },
         {
          "fillcolor": "lightgray",
          "layer": "below",
          "line": {
           "color": "white"
          },
          "type": "rect",
          "x0": 2.5,
          "x1": 3.5,
          "y0": 3.5,
          "y1": 4.5
         }
        ],
        "showlegend": true,
        "template": {
         "data": {
          "bar": [
           {
            "error_x": {
             "color": "#2a3f5f"
            },
            "error_y": {
             "color": "#2a3f5f"
            },
            "marker": {
             "line": {
              "color": "#E5ECF6",
              "width": 0.5
             },
             "pattern": {
              "fillmode": "overlay",
              "size": 10,
              "solidity": 0.2
             }
            },
            "type": "bar"
           }
          ],
          "barpolar": [
           {
            "marker": {
             "line": {
              "color": "#E5ECF6",
              "width": 0.5
             },
             "pattern": {
              "fillmode": "overlay",
              "size": 10,
              "solidity": 0.2
             }
            },
            "type": "barpolar"
           }
          ],
          "carpet": [
           {
            "aaxis": {
             "endlinecolor": "#2a3f5f",
             "gridcolor": "white",
             "linecolor": "white",
             "minorgridcolor": "white",
             "startlinecolor": "#2a3f5f"
            },
            "baxis": {
             "endlinecolor": "#2a3f5f",
             "gridcolor": "white",
             "linecolor": "white",
             "minorgridcolor": "white",
             "startlinecolor": "#2a3f5f"
            },
            "type": "carpet"
           }
          ],
          "choropleth": [
           {
            "colorbar": {
             "outlinewidth": 0,
             "ticks": ""
            },
            "type": "choropleth"
           }
          ],
          "contour": [
           {
            "colorbar": {
             "outlinewidth": 0,
             "ticks": ""
            },
            "colorscale": [
             [
              0,
              "#0d0887"
             ],
             [
              0.1111111111111111,
              "#46039f"
             ],
             [
              0.2222222222222222,
              "#7201a8"
             ],
             [
              0.3333333333333333,
              "#9c179e"
             ],
             [
              0.4444444444444444,
              "#bd3786"
             ],
             [
              0.5555555555555556,
              "#d8576b"
             ],
             [
              0.6666666666666666,
              "#ed7953"
             ],
             [
              0.7777777777777778,
              "#fb9f3a"
             ],
             [
              0.8888888888888888,
              "#fdca26"
             ],
             [
              1,
              "#f0f921"
             ]
            ],
            "type": "contour"
           }
          ],
          "contourcarpet": [
           {
            "colorbar": {
             "outlinewidth": 0,
             "ticks": ""
            },
            "type": "contourcarpet"
           }
          ],
          "heatmap": [
           {
            "colorbar": {
             "outlinewidth": 0,
             "ticks": ""
            },
            "colorscale": [
             [
              0,
              "#0d0887"
             ],
             [
              0.1111111111111111,
              "#46039f"
             ],
             [
              0.2222222222222222,
              "#7201a8"
             ],
             [
              0.3333333333333333,
              "#9c179e"
             ],
             [
              0.4444444444444444,
              "#bd3786"
             ],
             [
              0.5555555555555556,
              "#d8576b"
             ],
             [
              0.6666666666666666,
              "#ed7953"
             ],
             [
              0.7777777777777778,
              "#fb9f3a"
             ],
             [
              0.8888888888888888,
              "#fdca26"
             ],
             [
              1,
              "#f0f921"
             ]
            ],
            "type": "heatmap"
           }
          ],
          "histogram": [
           {
            "marker": {
             "pattern": {
              "fillmode": "overlay",
              "size": 10,
              "solidity": 0.2
             }
            },
            "type": "histogram"
           }
          ],
          "histogram2d": [
           {
            "colorbar": {
             "outlinewidth": 0,
             "ticks": ""
            },
            "colorscale": [
             [
              0,
              "#0d0887"
             ],
             [
              0.1111111111111111,
              "#46039f"
             ],
             [
              0.2222222222222222,
              "#7201a8"
             ],
             [
              0.3333333333333333,
              "#9c179e"
             ],
             [
              0.4444444444444444,
              "#bd3786"
             ],
             [
              0.5555555555555556,
              "#d8576b"
             ],
             [
              0.6666666666666666,
              "#ed7953"
             ],
             [
              0.7777777777777778,
              "#fb9f3a"
             ],
             [
              0.8888888888888888,
              "#fdca26"
             ],
             [
              1,
              "#f0f921"
             ]
            ],
            "type": "histogram2d"
           }
          ],
          "histogram2dcontour": [
           {
            "colorbar": {
             "outlinewidth": 0,
             "ticks": ""
            },
            "colorscale": [
             [
              0,
              "#0d0887"
             ],
             [
              0.1111111111111111,
              "#46039f"
             ],
             [
              0.2222222222222222,
              "#7201a8"
             ],
             [
              0.3333333333333333,
              "#9c179e"
             ],
             [
              0.4444444444444444,
              "#bd3786"
             ],
             [
              0.5555555555555556,
              "#d8576b"
             ],
             [
              0.6666666666666666,
              "#ed7953"
             ],
             [
              0.7777777777777778,
              "#fb9f3a"
             ],
             [
              0.8888888888888888,
              "#fdca26"
             ],
             [
              1,
              "#f0f921"
             ]
            ],
            "type": "histogram2dcontour"
           }
          ],
          "mesh3d": [
           {
            "colorbar": {
             "outlinewidth": 0,
             "ticks": ""
            },
            "type": "mesh3d"
           }
          ],
          "parcoords": [
           {
            "line": {
             "colorbar": {
              "outlinewidth": 0,
              "ticks": ""
             }
            },
            "type": "parcoords"
           }
          ],
          "pie": [
           {
            "automargin": true,
            "type": "pie"
           }
          ],
          "scatter": [
           {
            "fillpattern": {
             "fillmode": "overlay",
             "size": 10,
             "solidity": 0.2
            },
            "type": "scatter"
           }
          ],
          "scatter3d": [
           {
            "line": {
             "colorbar": {
              "outlinewidth": 0,
              "ticks": ""
             }
            },
            "marker": {
             "colorbar": {
              "outlinewidth": 0,
              "ticks": ""
             }
            },
            "type": "scatter3d"
           }
          ],
          "scattercarpet": [
           {
            "marker": {
             "colorbar": {
              "outlinewidth": 0,
              "ticks": ""
             }
            },
            "type": "scattercarpet"
           }
          ],
          "scattergeo": [
           {
            "marker": {
             "colorbar": {
              "outlinewidth": 0,
              "ticks": ""
             }
            },
            "type": "scattergeo"
           }
          ],
          "scattergl": [
           {
            "marker": {
             "colorbar": {
              "outlinewidth": 0,
              "ticks": ""
             }
            },
            "type": "scattergl"
           }
          ],
          "scattermap": [
           {
            "marker": {
             "colorbar": {
              "outlinewidth": 0,
              "ticks": ""
             }
            },
            "type": "scattermap"
           }
          ],
          "scattermapbox": [
           {
            "marker": {
             "colorbar": {
              "outlinewidth": 0,
              "ticks": ""
             }
            },
            "type": "scattermapbox"
           }
          ],
          "scatterpolar": [
           {
            "marker": {
             "colorbar": {
              "outlinewidth": 0,
              "ticks": ""
             }
            },
            "type": "scatterpolar"
           }
          ],
          "scatterpolargl": [
           {
            "marker": {
             "colorbar": {
              "outlinewidth": 0,
              "ticks": ""
             }
            },
            "type": "scatterpolargl"
           }
          ],
          "scatterternary": [
           {
            "marker": {
             "colorbar": {
              "outlinewidth": 0,
              "ticks": ""
             }
            },
            "type": "scatterternary"
           }
          ],
          "surface": [
           {
            "colorbar": {
             "outlinewidth": 0,
             "ticks": ""
            },
            "colorscale": [
             [
              0,
              "#0d0887"
             ],
             [
              0.1111111111111111,
              "#46039f"
             ],
             [
              0.2222222222222222,
              "#7201a8"
             ],
             [
              0.3333333333333333,
              "#9c179e"
             ],
             [
              0.4444444444444444,
              "#bd3786"
             ],
             [
              0.5555555555555556,
              "#d8576b"
             ],
             [
              0.6666666666666666,
              "#ed7953"
             ],
             [
              0.7777777777777778,
              "#fb9f3a"
             ],
             [
              0.8888888888888888,
              "#fdca26"
             ],
             [
              1,
              "#f0f921"
             ]
            ],
            "type": "surface"
           }
          ],
          "table": [
           {
            "cells": {
             "fill": {
              "color": "#EBF0F8"
             },
             "line": {
              "color": "white"
             }
            },
            "header": {
             "fill": {
              "color": "#C8D4E3"
             },
             "line": {
              "color": "white"
             }
            },
            "type": "table"
           }
          ]
         },
         "layout": {
          "annotationdefaults": {
           "arrowcolor": "#2a3f5f",
           "arrowhead": 0,
           "arrowwidth": 1
          },
          "autotypenumbers": "strict",
          "coloraxis": {
           "colorbar": {
            "outlinewidth": 0,
            "ticks": ""
           }
          },
          "colorscale": {
           "diverging": [
            [
             0,
             "#8e0152"
            ],
            [
             0.1,
             "#c51b7d"
            ],
            [
             0.2,
             "#de77ae"
            ],
            [
             0.3,
             "#f1b6da"
            ],
            [
             0.4,
             "#fde0ef"
            ],
            [
             0.5,
             "#f7f7f7"
            ],
            [
             0.6,
             "#e6f5d0"
            ],
            [
             0.7,
             "#b8e186"
            ],
            [
             0.8,
             "#7fbc41"
            ],
            [
             0.9,
             "#4d9221"
            ],
            [
             1,
             "#276419"
            ]
           ],
           "sequential": [
            [
             0,
             "#0d0887"
            ],
            [
             0.1111111111111111,
             "#46039f"
            ],
            [
             0.2222222222222222,
             "#7201a8"
            ],
            [
             0.3333333333333333,
             "#9c179e"
            ],
            [
             0.4444444444444444,
             "#bd3786"
            ],
            [
             0.5555555555555556,
             "#d8576b"
            ],
            [
             0.6666666666666666,
             "#ed7953"
            ],
            [
             0.7777777777777778,
             "#fb9f3a"
            ],
            [
             0.8888888888888888,
             "#fdca26"
            ],
            [
             1,
             "#f0f921"
            ]
           ],
           "sequentialminus": [
            [
             0,
             "#0d0887"
            ],
            [
             0.1111111111111111,
             "#46039f"
            ],
            [
             0.2222222222222222,
             "#7201a8"
            ],
            [
             0.3333333333333333,
             "#9c179e"
            ],
            [
             0.4444444444444444,
             "#bd3786"
            ],
            [
             0.5555555555555556,
             "#d8576b"
            ],
            [
             0.6666666666666666,
             "#ed7953"
            ],
            [
             0.7777777777777778,
             "#fb9f3a"
            ],
            [
             0.8888888888888888,
             "#fdca26"
            ],
            [
             1,
             "#f0f921"
            ]
           ]
          },
          "colorway": [
           "#636efa",
           "#EF553B",
           "#00cc96",
           "#ab63fa",
           "#FFA15A",
           "#19d3f3",
           "#FF6692",
           "#B6E880",
           "#FF97FF",
           "#FECB52"
          ],
          "font": {
           "color": "#2a3f5f"
          },
          "geo": {
           "bgcolor": "white",
           "lakecolor": "white",
           "landcolor": "#E5ECF6",
           "showlakes": true,
           "showland": true,
           "subunitcolor": "white"
          },
          "hoverlabel": {
           "align": "left"
          },
          "hovermode": "closest",
          "mapbox": {
           "style": "light"
          },
          "paper_bgcolor": "white",
          "plot_bgcolor": "#E5ECF6",
          "polar": {
           "angularaxis": {
            "gridcolor": "white",
            "linecolor": "white",
            "ticks": ""
           },
           "bgcolor": "#E5ECF6",
           "radialaxis": {
            "gridcolor": "white",
            "linecolor": "white",
            "ticks": ""
           }
          },
          "scene": {
           "xaxis": {
            "backgroundcolor": "#E5ECF6",
            "gridcolor": "white",
            "gridwidth": 2,
            "linecolor": "white",
            "showbackground": true,
            "ticks": "",
            "zerolinecolor": "white"
           },
           "yaxis": {
            "backgroundcolor": "#E5ECF6",
            "gridcolor": "white",
            "gridwidth": 2,
            "linecolor": "white",
            "showbackground": true,
            "ticks": "",
            "zerolinecolor": "white"
           },
           "zaxis": {
            "backgroundcolor": "#E5ECF6",
            "gridcolor": "white",
            "gridwidth": 2,
            "linecolor": "white",
            "showbackground": true,
            "ticks": "",
            "zerolinecolor": "white"
           }
          },
          "shapedefaults": {
           "line": {
            "color": "#2a3f5f"
           }
          },
          "ternary": {
           "aaxis": {
            "gridcolor": "white",
            "linecolor": "white",
            "ticks": ""
           },
           "baxis": {
            "gridcolor": "white",
            "linecolor": "white",
            "ticks": ""
           },
           "bgcolor": "#E5ECF6",
           "caxis": {
            "gridcolor": "white",
            "linecolor": "white",
            "ticks": ""
           }
          },
          "title": {
           "x": 0.05
          },
          "xaxis": {
           "automargin": true,
           "gridcolor": "white",
           "linecolor": "white",
           "ticks": "",
           "title": {
            "standoff": 15
           },
           "zerolinecolor": "white",
           "zerolinewidth": 2
          },
          "yaxis": {
           "automargin": true,
           "gridcolor": "white",
           "linecolor": "white",
           "ticks": "",
           "title": {
            "standoff": 15
           },
           "zerolinecolor": "white",
           "zerolinewidth": 2
          }
         }
        },
        "title": {
         "font": {
          "size": 24
         },
         "text": "<b>State Income Tax Status</b>"
        },
        "width": 800,
        "xaxis": {
         "showgrid": false,
         "showticklabels": false,
         "zeroline": false
        },
        "yaxis": {
         "scaleanchor": "x",
         "scaleratio": 1,
         "showgrid": false,
         "showticklabels": false,
         "zeroline": false
        }
       }
      }
     },
     "metadata": {},
     "output_type": "display_data"
    }
   ],
   "source": [
    "# Tile Grid Map\n",
    "# Categorical data example:\n",
    "\n",
    "import pandas as pd\n",
    "import plotly.graph_objects as go\n",
    "\n",
    "# Assign the name of the DataFrame column to plot:\n",
    "VALUES = 'Tax'\n",
    "\n",
    "# Assign the plot's title:\n",
    "TITLE = 'State Income Tax Status'\n",
    "\n",
    "# Assign the colors for categorical data:\n",
    "COLOR1 = 'pink'\n",
    "COLOR2 = 'lightgray'\n",
    "\n",
    "# Assign colors for tile edge and text:\n",
    "EDGE_COLOR = 'white'\n",
    "TEXT_COLOR = 'black'\n",
    "\n",
    "# Assign Legend Text:\n",
    "LEGEND_TXT_1 = 'State Income Tax'\n",
    "LEGEND_TXT_2 = 'No State Income Tax'\n",
    "\n",
    "# Identify data source:\n",
    "SOURCE = 'Investopedia.com'\n",
    "\n",
    "# Load the data:\n",
    "dataUSA = pd.read_csv('dataUSA.csv')\n",
    "\n",
    "# Create figure:\n",
    "fig = go.Figure()\n",
    "\n",
    "# Assign colors based on a condition:\n",
    "colors = [COLOR1 if val == 'Yes' else COLOR2 for val in dataUSA[VALUES]]\n",
    "\n",
    "# Build rectangle shapes for each data point:\n",
    "shapes = [dict(type='rect',\n",
    "               x0=x - 0.5, x1=x + 0.5,\n",
    "               y0=y - 0.5, y1=y + 0.5,\n",
    "               line=dict(color='white'),\n",
    "               fillcolor=color,\n",
    "               layer='below')\n",
    "          for x, y, color in zip(dataUSA['X'], dataUSA['Y'], colors)]\n",
    "\n",
    "# Prepare custom data for hover tooltips using a DataFrame slice:\n",
    "custom_data = dataUSA[['State', VALUES]].values.tolist()\n",
    "\n",
    "# Add text trace for state abbreviations:\n",
    "fig.add_trace(go.Scatter(x=dataUSA['X'],\n",
    "                         y=dataUSA['Y'],\n",
    "                         mode='text',\n",
    "                         text=dataUSA['Abbr'],\n",
    "                         textfont=dict(size=16, \n",
    "                                       color=TEXT_COLOR, \n",
    "                                       family='Arial'),\n",
    "                         customdata=custom_data,\n",
    "                         hovertemplate=('State: %{customdata[0]}<br>' +\n",
    "                                        'X: %{x}<br>' +\n",
    "                                        'Y: %{y}<br>' +\n",
    "                                        'Data: %{customdata[1]}<extra></extra>'),\n",
    "                         showlegend=False))\n",
    "\n",
    "# Add legend traces:\n",
    "fig.add_trace(go.Scatter(x=[None],\n",
    "                         y=[None],\n",
    "                         mode='markers',\n",
    "                         marker=dict(size=15, color=COLOR1, \n",
    "                                     symbol='square', \n",
    "                                     line=dict(color=COLOR1, width=2)),\n",
    "                         name=f\"<b>{LEGEND_TXT_1}</b>\"))\n",
    "fig.add_trace(go.Scatter(x=[None],\n",
    "                         y=[None],\n",
    "                         mode='markers',\n",
    "                         marker=dict(size=15, color=COLOR2, symbol='square', \n",
    "                                     line=dict(color=COLOR2, width=2)),\n",
    "                         name=f'<b>{LEGEND_TXT_2}</b>'))\n",
    "\n",
    "# Update figure:\n",
    "fig.update_layout(shapes=shapes,\n",
    "                  xaxis=dict(showgrid=False, \n",
    "                             zeroline=False, \n",
    "                             showticklabels=False),\n",
    "                  yaxis=dict(showgrid=False,\n",
    "                             zeroline=False,\n",
    "                             showticklabels=False,\n",
    "                             scaleanchor=\"x\",\n",
    "                             scaleratio=1),\n",
    "                  plot_bgcolor='white',\n",
    "                  width=800, height=500,\n",
    "                  title=dict(text=f'<b>{TITLE}</b>', \n",
    "                             font=dict(size=24)),\n",
    "                  showlegend=True,\n",
    "                  legend=dict(x=0.95),  # Adjust horizontal position\n",
    "                  annotations=[dict(x=0,\n",
    "                                    y=-0.1,\n",
    "                                    xref='paper',\n",
    "                                    yref='paper',\n",
    "                                    text=f'<i>Source: {SOURCE}</i>',\n",
    "                                    showarrow=False,\n",
    "                                    font=dict(size=12, color='black'))])\n",
    "\n",
    "fig.show()"
   ]
  },
  {
   "cell_type": "markdown",
   "id": "0989bd6e",
   "metadata": {},
   "source": [
    "### Continuous Code\n",
    "The following code example creates a tile grid map of continuous values, in this case, state populations:\n",
    "\n"
   ]
  },
  {
   "cell_type": "code",
   "execution_count": 8,
   "id": "d10d13b2",
   "metadata": {},
   "outputs": [
    {
     "data": {
      "application/vnd.plotly.v1+json": {
       "config": {
        "plotlyServerURL": "https://plot.ly"
       },
       "data": [
        {
         "hoverinfo": "skip",
         "marker": {
          "cmax": 39431263,
          "cmin": 587618,
          "color": {
           "bdata": "Q7NOACVLCwCwsnMA4h8vAF+sWQJ151oAvRM4AA0NEAC3oWQBTpuqAAIRFgDTih4ADvHBAPOnaQAQdjEA7lMtAFQDRgDsJ0YAVHAVALSRXwCr42wAK7uaAH9lWABF6CwAWkxfAFFaEQDZmR4Ai9sxAAiAFQCz+JAAUIEgAHAmLwGIjKgAmCcMAChTtQChfT4A8zBBAN+QxwD0+BAAr5lTAP0bDgBmSW4Az3XdAf11NQAt5QkAu3KGAKRueQD7ARsAD/VaAGL3CAA=",
           "dtype": "i4"
          },
          "colorbar": {
           "title": {
            "text": "Population"
           }
          },
          "colorscale": [
           [
            0,
            "rgb(247,251,255)"
           ],
           [
            0.125,
            "rgb(222,235,247)"
           ],
           [
            0.25,
            "rgb(198,219,239)"
           ],
           [
            0.375,
            "rgb(158,202,225)"
           ],
           [
            0.5,
            "rgb(107,174,214)"
           ],
           [
            0.625,
            "rgb(66,146,198)"
           ],
           [
            0.75,
            "rgb(33,113,181)"
           ],
           [
            0.875,
            "rgb(8,81,156)"
           ],
           [
            1,
            "rgb(8,48,107)"
           ]
          ],
          "showscale": true
         },
         "mode": "markers",
         "opacity": 0,
         "showlegend": false,
         "type": "scatter",
         "x": {
          "bdata": "BwACBQEDCgoJCAACBgYFBAcFCwkKBwUGBQMEAgsJAwkJBAcEAQgLCAQGBAIKCAEHBgM=",
          "dtype": "i1"
         },
         "y": {
          "bdata": "AQcCAgMDBAMAAQEFBAMEAgIBBwMFBQUBAwUDAwYEAgUCBQQBBAQFAgQCAAQGAwUDBQQ=",
          "dtype": "i1"
         }
        },
        {
         "customdata": [
          [
           "Alabama",
           5157699
          ],
          [
           "Alaska",
           740133
          ],
          [
           "Arizona",
           7582384
          ],
          [
           "Arkansas",
           3088354
          ],
          [
           "California",
           39431263
          ],
          [
           "Colorado",
           5957493
          ],
          [
           "Connecticut",
           3675069
          ],
          [
           "Delaware",
           1051917
          ],
          [
           "Florida",
           23372215
          ],
          [
           "Georgia",
           11180878
          ],
          [
           "Hawaii",
           1446146
          ],
          [
           "Idaho",
           2001619
          ],
          [
           "Illinois",
           12710158
          ],
          [
           "Indiana",
           6924275
          ],
          [
           "Iowa",
           3241488
          ],
          [
           "Kansas",
           2970606
          ],
          [
           "Kentucky",
           4588372
          ],
          [
           "Louisiana",
           4597740
          ],
          [
           "Maine",
           1405012
          ],
          [
           "Maryland",
           6263220
          ],
          [
           "Massachusetts",
           7136171
          ],
          [
           "Michigan",
           10140459
          ],
          [
           "Minnesota",
           5793151
          ],
          [
           "Mississippi",
           2943045
          ],
          [
           "Missouri",
           6245466
          ],
          [
           "Montana",
           1137233
          ],
          [
           "Nebraska",
           2005465
          ],
          [
           "Nevada",
           3267467
          ],
          [
           "New Hampshire",
           1409032
          ],
          [
           "New Jersey",
           9500851
          ],
          [
           "New Mexico",
           2130256
          ],
          [
           "New York",
           19867248
          ],
          [
           "North Carolina",
           11046024
          ],
          [
           "North Dakota",
           796568
          ],
          [
           "Ohio",
           11883304
          ],
          [
           "Oklahoma",
           4095393
          ],
          [
           "Oregon",
           4272371
          ],
          [
           "Pennsylvania",
           13078751
          ],
          [
           "Rhode Island",
           1112308
          ],
          [
           "South Carolina",
           5478831
          ],
          [
           "South Dakota",
           924669
          ],
          [
           "Tennessee",
           7227750
          ],
          [
           "Texas",
           31290831
          ],
          [
           "Utah",
           3503613
          ],
          [
           "Vermont",
           648493
          ],
          [
           "Virginia",
           8811195
          ],
          [
           "Washington",
           7958180
          ],
          [
           "West Virginia",
           1769979
          ],
          [
           "Wisconsin",
           5960975
          ],
          [
           "Wyoming",
           587618
          ]
         ],
         "hovertemplate": "State: %{customdata[0]}<br>Population: %{customdata[1]:,}<extra></extra>",
         "marker": {
          "color": "rgba(0, 0, 0, 0)",
          "size": 20
         },
         "mode": "markers+text",
         "showlegend": false,
         "text": [
          "AL",
          "AK",
          "AZ",
          "AR",
          "CA",
          "CO",
          "CT",
          "DE",
          "FL",
          "GA",
          "HI",
          "ID",
          "IL",
          "IN",
          "IA",
          "KS",
          "KY",
          "LA",
          "ME",
          "MD",
          "MA",
          "MI",
          "MN",
          "MS",
          "MO",
          "MT",
          "NE",
          "NE",
          "NH",
          "NJ",
          "NM",
          "NY",
          "NC",
          "ND",
          "OH",
          "OK",
          "OR",
          "PA",
          "RI",
          "SC",
          "SD",
          "TN",
          "TX",
          "UT",
          "VT",
          "VA",
          "WA",
          "WV",
          "WI",
          "WY"
         ],
         "textfont": {
          "color": "black",
          "family": "Arial",
          "size": 16
         },
         "type": "scatter",
         "x": {
          "bdata": "BwACBQEDCgoJCAACBgYFBAcFCwkKBwUGBQMEAgsJAwkJBAcEAQgLCAQGBAIKCAEHBgM=",
          "dtype": "i1"
         },
         "y": {
          "bdata": "AQcCAgMDBAMAAQEFBAMEAgIBBwMFBQUBAwUDAwYEAgUCBQQBBAQFAgQCAAQGAwUDBQQ=",
          "dtype": "i1"
         }
        }
       ],
       "layout": {
        "annotations": [
         {
          "font": {
           "color": "black",
           "size": 12
          },
          "showarrow": false,
          "text": "<i>Source: U.S. Census Bureau</i>",
          "x": 0,
          "xref": "paper",
          "y": -0.1,
          "yref": "paper"
         }
        ],
        "height": 500,
        "plot_bgcolor": "white",
        "shapes": [
         {
          "fillcolor": "rgb(223, 236, 247)",
          "layer": "below",
          "line": {
           "color": "white"
          },
          "type": "rect",
          "x0": 6.5,
          "x1": 7.5,
          "y0": 0.5,
          "y1": 1.5
         },
         {
          "fillcolor": "rgb(246, 250, 255)",
          "layer": "below",
          "line": {
           "color": "white"
          },
          "type": "rect",
          "x0": -0.5,
          "x1": 0.5,
          "y0": 6.5,
          "y1": 7.5
         },
         {
          "fillcolor": "rgb(211, 228, 243)",
          "layer": "below",
          "line": {
           "color": "white"
          },
          "type": "rect",
          "x0": 1.5,
          "x1": 2.5,
          "y0": 1.5,
          "y1": 2.5
         },
         {
          "fillcolor": "rgb(234, 243, 251)",
          "layer": "below",
          "line": {
           "color": "white"
          },
          "type": "rect",
          "x0": 4.5,
          "x1": 5.5,
          "y0": 1.5,
          "y1": 2.5
         },
         {
          "fillcolor": "rgb(8, 48, 107)",
          "layer": "below",
          "line": {
           "color": "white"
          },
          "type": "rect",
          "x0": 0.5,
          "x1": 1.5,
          "y0": 2.5,
          "y1": 3.5
         },
         {
          "fillcolor": "rgb(219, 233, 246)",
          "layer": "below",
          "line": {
           "color": "white"
          },
          "type": "rect",
          "x0": 2.5,
          "x1": 3.5,
          "y0": 2.5,
          "y1": 3.5
         },
         {
          "fillcolor": "rgb(231, 241, 250)",
          "layer": "below",
          "line": {
           "color": "white"
          },
          "type": "rect",
          "x0": 9.5,
          "x1": 10.5,
          "y0": 3.5,
          "y1": 4.5
         },
         {
          "fillcolor": "rgb(245, 249, 254)",
          "layer": "below",
          "line": {
           "color": "white"
          },
          "type": "rect",
          "x0": 9.5,
          "x1": 10.5,
          "y0": 2.5,
          "y1": 3.5
         },
         {
          "fillcolor": "rgb(79, 155, 203)",
          "layer": "below",
          "line": {
           "color": "white"
          },
          "type": "rect",
          "x0": 8.5,
          "x1": 9.5,
          "y0": -0.5,
          "y1": 0.5
         },
         {
          "fillcolor": "rgb(191, 216, 236)",
          "layer": "below",
          "line": {
           "color": "white"
          },
          "type": "rect",
          "x0": 7.5,
          "x1": 8.5,
          "y0": 0.5,
          "y1": 1.5
         },
         {
          "fillcolor": "rgb(243, 248, 254)",
          "layer": "below",
          "line": {
           "color": "white"
          },
          "type": "rect",
          "x0": -0.5,
          "x1": 0.5,
          "y0": 0.5,
          "y1": 1.5
         },
         {
          "fillcolor": "rgb(240, 246, 253)",
          "layer": "below",
          "line": {
           "color": "white"
          },
          "type": "rect",
          "x0": 1.5,
          "x1": 2.5,
          "y0": 4.5,
          "y1": 5.5
         },
         {
          "fillcolor": "rgb(178, 211, 232)",
          "layer": "below",
          "line": {
           "color": "white"
          },
          "type": "rect",
          "x0": 5.5,
          "x1": 6.5,
          "y0": 3.5,
          "y1": 4.5
         },
         {
          "fillcolor": "rgb(215, 230, 245)",
          "layer": "below",
          "line": {
           "color": "white"
          },
          "type": "rect",
          "x0": 5.5,
          "x1": 6.5,
          "y0": 2.5,
          "y1": 3.5
         },
         {
          "fillcolor": "rgb(233, 242, 251)",
          "layer": "below",
          "line": {
           "color": "white"
          },
          "type": "rect",
          "x0": 4.5,
          "x1": 5.5,
          "y0": 3.5,
          "y1": 4.5
         },
         {
          "fillcolor": "rgb(235, 243, 251)",
          "layer": "below",
          "line": {
           "color": "white"
          },
          "type": "rect",
          "x0": 3.5,
          "x1": 4.5,
          "y0": 1.5,
          "y1": 2.5
         },
         {
          "fillcolor": "rgb(226, 238, 248)",
          "layer": "below",
          "line": {
           "color": "white"
          },
          "type": "rect",
          "x0": 6.5,
          "x1": 7.5,
          "y0": 1.5,
          "y1": 2.5
         },
         {
          "fillcolor": "rgb(226, 238, 248)",
          "layer": "below",
          "line": {
           "color": "white"
          },
          "type": "rect",
          "x0": 4.5,
          "x1": 5.5,
          "y0": 0.5,
          "y1": 1.5
         },
         {
          "fillcolor": "rgb(243, 248, 254)",
          "layer": "below",
          "line": {
           "color": "white"
          },
          "type": "rect",
          "x0": 10.5,
          "x1": 11.5,
          "y0": 6.5,
          "y1": 7.5
         },
         {
          "fillcolor": "rgb(218, 232, 246)",
          "layer": "below",
          "line": {
           "color": "white"
          },
          "type": "rect",
          "x0": 8.5,
          "x1": 9.5,
          "y0": 2.5,
          "y1": 3.5
         },
         {
          "fillcolor": "rgb(214, 229, 244)",
          "layer": "below",
          "line": {
           "color": "white"
          },
          "type": "rect",
          "x0": 9.5,
          "x1": 10.5,
          "y0": 4.5,
          "y1": 5.5
         },
         {
          "fillcolor": "rgb(199, 220, 239)",
          "layer": "below",
          "line": {
           "color": "white"
          },
          "type": "rect",
          "x0": 6.5,
          "x1": 7.5,
          "y0": 4.5,
          "y1": 5.5
         },
         {
          "fillcolor": "rgb(220, 234, 246)",
          "layer": "below",
          "line": {
           "color": "white"
          },
          "type": "rect",
          "x0": 4.5,
          "x1": 5.5,
          "y0": 4.5,
          "y1": 5.5
         },
         {
          "fillcolor": "rgb(235, 243, 251)",
          "layer": "below",
          "line": {
           "color": "white"
          },
          "type": "rect",
          "x0": 5.5,
          "x1": 6.5,
          "y0": 0.5,
          "y1": 1.5
         },
         {
          "fillcolor": "rgb(218, 232, 246)",
          "layer": "below",
          "line": {
           "color": "white"
          },
          "type": "rect",
          "x0": 4.5,
          "x1": 5.5,
          "y0": 2.5,
          "y1": 3.5
         },
         {
          "fillcolor": "rgb(244, 249, 254)",
          "layer": "below",
          "line": {
           "color": "white"
          },
          "type": "rect",
          "x0": 2.5,
          "x1": 3.5,
          "y0": 4.5,
          "y1": 5.5
         },
         {
          "fillcolor": "rgb(240, 246, 253)",
          "layer": "below",
          "line": {
           "color": "white"
          },
          "type": "rect",
          "x0": 3.5,
          "x1": 4.5,
          "y0": 2.5,
          "y1": 3.5
         },
         {
          "fillcolor": "rgb(233, 242, 251)",
          "layer": "below",
          "line": {
           "color": "white"
          },
          "type": "rect",
          "x0": 1.5,
          "x1": 2.5,
          "y0": 2.5,
          "y1": 3.5
         },
         {
          "fillcolor": "rgb(243, 248, 254)",
          "layer": "below",
          "line": {
           "color": "white"
          },
          "type": "rect",
          "x0": 10.5,
          "x1": 11.5,
          "y0": 5.5,
          "y1": 6.5
         },
         {
          "fillcolor": "rgb(202, 222, 240)",
          "layer": "below",
          "line": {
           "color": "white"
          },
          "type": "rect",
          "x0": 8.5,
          "x1": 9.5,
          "y0": 3.5,
          "y1": 4.5
         },
         {
          "fillcolor": "rgb(239, 246, 252)",
          "layer": "below",
          "line": {
           "color": "white"
          },
          "type": "rect",
          "x0": 2.5,
          "x1": 3.5,
          "y0": 1.5,
          "y1": 2.5
         },
         {
          "fillcolor": "rgb(108, 175, 214)",
          "layer": "below",
          "line": {
           "color": "white"
          },
          "type": "rect",
          "x0": 8.5,
          "x1": 9.5,
          "y0": 4.5,
          "y1": 5.5
         },
         {
          "fillcolor": "rgb(192, 216, 237)",
          "layer": "below",
          "line": {
           "color": "white"
          },
          "type": "rect",
          "x0": 8.5,
          "x1": 9.5,
          "y0": 1.5,
          "y1": 2.5
         },
         {
          "fillcolor": "rgb(246, 250, 255)",
          "layer": "below",
          "line": {
           "color": "white"
          },
          "type": "rect",
          "x0": 3.5,
          "x1": 4.5,
          "y0": 4.5,
          "y1": 5.5
         },
         {
          "fillcolor": "rgb(185, 213, 234)",
          "layer": "below",
          "line": {
           "color": "white"
          },
          "type": "rect",
          "x0": 6.5,
          "x1": 7.5,
          "y0": 3.5,
          "y1": 4.5
         },
         {
          "fillcolor": "rgb(229, 239, 249)",
          "layer": "below",
          "line": {
           "color": "white"
          },
          "type": "rect",
          "x0": 3.5,
          "x1": 4.5,
          "y0": 0.5,
          "y1": 1.5
         },
         {
          "fillcolor": "rgb(228, 239, 249)",
          "layer": "below",
          "line": {
           "color": "white"
          },
          "type": "rect",
          "x0": 0.5,
          "x1": 1.5,
          "y0": 3.5,
          "y1": 4.5
         },
         {
          "fillcolor": "rgb(175, 209, 231)",
          "layer": "below",
          "line": {
           "color": "white"
          },
          "type": "rect",
          "x0": 7.5,
          "x1": 8.5,
          "y0": 3.5,
          "y1": 4.5
         },
         {
          "fillcolor": "rgb(244, 249, 254)",
          "layer": "below",
          "line": {
           "color": "white"
          },
          "type": "rect",
          "x0": 10.5,
          "x1": 11.5,
          "y0": 4.5,
          "y1": 5.5
         },
         {
          "fillcolor": "rgb(222, 235, 247)",
          "layer": "below",
          "line": {
           "color": "white"
          },
          "type": "rect",
          "x0": 7.5,
          "x1": 8.5,
          "y0": 1.5,
          "y1": 2.5
         },
         {
          "fillcolor": "rgb(245, 250, 254)",
          "layer": "below",
          "line": {
           "color": "white"
          },
          "type": "rect",
          "x0": 3.5,
          "x1": 4.5,
          "y0": 3.5,
          "y1": 4.5
         },
         {
          "fillcolor": "rgb(213, 229, 244)",
          "layer": "below",
          "line": {
           "color": "white"
          },
          "type": "rect",
          "x0": 5.5,
          "x1": 6.5,
          "y0": 1.5,
          "y1": 2.5
         },
         {
          "fillcolor": "rgb(25, 103, 173)",
          "layer": "below",
          "line": {
           "color": "white"
          },
          "type": "rect",
          "x0": 3.5,
          "x1": 4.5,
          "y0": -0.5,
          "y1": 0.5
         },
         {
          "fillcolor": "rgb(232, 241, 250)",
          "layer": "below",
          "line": {
           "color": "white"
          },
          "type": "rect",
          "x0": 1.5,
          "x1": 2.5,
          "y0": 3.5,
          "y1": 4.5
         },
         {
          "fillcolor": "rgb(247, 251, 255)",
          "layer": "below",
          "line": {
           "color": "white"
          },
          "type": "rect",
          "x0": 9.5,
          "x1": 10.5,
          "y0": 5.5,
          "y1": 6.5
         },
         {
          "fillcolor": "rgb(205, 224, 241)",
          "layer": "below",
          "line": {
           "color": "white"
          },
          "type": "rect",
          "x0": 7.5,
          "x1": 8.5,
          "y0": 2.5,
          "y1": 3.5
         },
         {
          "fillcolor": "rgb(210, 227, 243)",
          "layer": "below",
          "line": {
           "color": "white"
          },
          "type": "rect",
          "x0": 0.5,
          "x1": 1.5,
          "y0": 4.5,
          "y1": 5.5
         },
         {
          "fillcolor": "rgb(241, 247, 253)",
          "layer": "below",
          "line": {
           "color": "white"
          },
          "type": "rect",
          "x0": 6.5,
          "x1": 7.5,
          "y0": 2.5,
          "y1": 3.5
         },
         {
          "fillcolor": "rgb(219, 233, 246)",
          "layer": "below",
          "line": {
           "color": "white"
          },
          "type": "rect",
          "x0": 5.5,
          "x1": 6.5,
          "y0": 4.5,
          "y1": 5.5
         },
         {
          "fillcolor": "rgb(247, 251, 255)",
          "layer": "below",
          "line": {
           "color": "white"
          },
          "type": "rect",
          "x0": 2.5,
          "x1": 3.5,
          "y0": 3.5,
          "y1": 4.5
         }
        ],
        "showlegend": false,
        "template": {
         "data": {
          "bar": [
           {
            "error_x": {
             "color": "#2a3f5f"
            },
            "error_y": {
             "color": "#2a3f5f"
            },
            "marker": {
             "line": {
              "color": "#E5ECF6",
              "width": 0.5
             },
             "pattern": {
              "fillmode": "overlay",
              "size": 10,
              "solidity": 0.2
             }
            },
            "type": "bar"
           }
          ],
          "barpolar": [
           {
            "marker": {
             "line": {
              "color": "#E5ECF6",
              "width": 0.5
             },
             "pattern": {
              "fillmode": "overlay",
              "size": 10,
              "solidity": 0.2
             }
            },
            "type": "barpolar"
           }
          ],
          "carpet": [
           {
            "aaxis": {
             "endlinecolor": "#2a3f5f",
             "gridcolor": "white",
             "linecolor": "white",
             "minorgridcolor": "white",
             "startlinecolor": "#2a3f5f"
            },
            "baxis": {
             "endlinecolor": "#2a3f5f",
             "gridcolor": "white",
             "linecolor": "white",
             "minorgridcolor": "white",
             "startlinecolor": "#2a3f5f"
            },
            "type": "carpet"
           }
          ],
          "choropleth": [
           {
            "colorbar": {
             "outlinewidth": 0,
             "ticks": ""
            },
            "type": "choropleth"
           }
          ],
          "contour": [
           {
            "colorbar": {
             "outlinewidth": 0,
             "ticks": ""
            },
            "colorscale": [
             [
              0,
              "#0d0887"
             ],
             [
              0.1111111111111111,
              "#46039f"
             ],
             [
              0.2222222222222222,
              "#7201a8"
             ],
             [
              0.3333333333333333,
              "#9c179e"
             ],
             [
              0.4444444444444444,
              "#bd3786"
             ],
             [
              0.5555555555555556,
              "#d8576b"
             ],
             [
              0.6666666666666666,
              "#ed7953"
             ],
             [
              0.7777777777777778,
              "#fb9f3a"
             ],
             [
              0.8888888888888888,
              "#fdca26"
             ],
             [
              1,
              "#f0f921"
             ]
            ],
            "type": "contour"
           }
          ],
          "contourcarpet": [
           {
            "colorbar": {
             "outlinewidth": 0,
             "ticks": ""
            },
            "type": "contourcarpet"
           }
          ],
          "heatmap": [
           {
            "colorbar": {
             "outlinewidth": 0,
             "ticks": ""
            },
            "colorscale": [
             [
              0,
              "#0d0887"
             ],
             [
              0.1111111111111111,
              "#46039f"
             ],
             [
              0.2222222222222222,
              "#7201a8"
             ],
             [
              0.3333333333333333,
              "#9c179e"
             ],
             [
              0.4444444444444444,
              "#bd3786"
             ],
             [
              0.5555555555555556,
              "#d8576b"
             ],
             [
              0.6666666666666666,
              "#ed7953"
             ],
             [
              0.7777777777777778,
              "#fb9f3a"
             ],
             [
              0.8888888888888888,
              "#fdca26"
             ],
             [
              1,
              "#f0f921"
             ]
            ],
            "type": "heatmap"
           }
          ],
          "histogram": [
           {
            "marker": {
             "pattern": {
              "fillmode": "overlay",
              "size": 10,
              "solidity": 0.2
             }
            },
            "type": "histogram"
           }
          ],
          "histogram2d": [
           {
            "colorbar": {
             "outlinewidth": 0,
             "ticks": ""
            },
            "colorscale": [
             [
              0,
              "#0d0887"
             ],
             [
              0.1111111111111111,
              "#46039f"
             ],
             [
              0.2222222222222222,
              "#7201a8"
             ],
             [
              0.3333333333333333,
              "#9c179e"
             ],
             [
              0.4444444444444444,
              "#bd3786"
             ],
             [
              0.5555555555555556,
              "#d8576b"
             ],
             [
              0.6666666666666666,
              "#ed7953"
             ],
             [
              0.7777777777777778,
              "#fb9f3a"
             ],
             [
              0.8888888888888888,
              "#fdca26"
             ],
             [
              1,
              "#f0f921"
             ]
            ],
            "type": "histogram2d"
           }
          ],
          "histogram2dcontour": [
           {
            "colorbar": {
             "outlinewidth": 0,
             "ticks": ""
            },
            "colorscale": [
             [
              0,
              "#0d0887"
             ],
             [
              0.1111111111111111,
              "#46039f"
             ],
             [
              0.2222222222222222,
              "#7201a8"
             ],
             [
              0.3333333333333333,
              "#9c179e"
             ],
             [
              0.4444444444444444,
              "#bd3786"
             ],
             [
              0.5555555555555556,
              "#d8576b"
             ],
             [
              0.6666666666666666,
              "#ed7953"
             ],
             [
              0.7777777777777778,
              "#fb9f3a"
             ],
             [
              0.8888888888888888,
              "#fdca26"
             ],
             [
              1,
              "#f0f921"
             ]
            ],
            "type": "histogram2dcontour"
           }
          ],
          "mesh3d": [
           {
            "colorbar": {
             "outlinewidth": 0,
             "ticks": ""
            },
            "type": "mesh3d"
           }
          ],
          "parcoords": [
           {
            "line": {
             "colorbar": {
              "outlinewidth": 0,
              "ticks": ""
             }
            },
            "type": "parcoords"
           }
          ],
          "pie": [
           {
            "automargin": true,
            "type": "pie"
           }
          ],
          "scatter": [
           {
            "fillpattern": {
             "fillmode": "overlay",
             "size": 10,
             "solidity": 0.2
            },
            "type": "scatter"
           }
          ],
          "scatter3d": [
           {
            "line": {
             "colorbar": {
              "outlinewidth": 0,
              "ticks": ""
             }
            },
            "marker": {
             "colorbar": {
              "outlinewidth": 0,
              "ticks": ""
             }
            },
            "type": "scatter3d"
           }
          ],
          "scattercarpet": [
           {
            "marker": {
             "colorbar": {
              "outlinewidth": 0,
              "ticks": ""
             }
            },
            "type": "scattercarpet"
           }
          ],
          "scattergeo": [
           {
            "marker": {
             "colorbar": {
              "outlinewidth": 0,
              "ticks": ""
             }
            },
            "type": "scattergeo"
           }
          ],
          "scattergl": [
           {
            "marker": {
             "colorbar": {
              "outlinewidth": 0,
              "ticks": ""
             }
            },
            "type": "scattergl"
           }
          ],
          "scattermap": [
           {
            "marker": {
             "colorbar": {
              "outlinewidth": 0,
              "ticks": ""
             }
            },
            "type": "scattermap"
           }
          ],
          "scattermapbox": [
           {
            "marker": {
             "colorbar": {
              "outlinewidth": 0,
              "ticks": ""
             }
            },
            "type": "scattermapbox"
           }
          ],
          "scatterpolar": [
           {
            "marker": {
             "colorbar": {
              "outlinewidth": 0,
              "ticks": ""
             }
            },
            "type": "scatterpolar"
           }
          ],
          "scatterpolargl": [
           {
            "marker": {
             "colorbar": {
              "outlinewidth": 0,
              "ticks": ""
             }
            },
            "type": "scatterpolargl"
           }
          ],
          "scatterternary": [
           {
            "marker": {
             "colorbar": {
              "outlinewidth": 0,
              "ticks": ""
             }
            },
            "type": "scatterternary"
           }
          ],
          "surface": [
           {
            "colorbar": {
             "outlinewidth": 0,
             "ticks": ""
            },
            "colorscale": [
             [
              0,
              "#0d0887"
             ],
             [
              0.1111111111111111,
              "#46039f"
             ],
             [
              0.2222222222222222,
              "#7201a8"
             ],
             [
              0.3333333333333333,
              "#9c179e"
             ],
             [
              0.4444444444444444,
              "#bd3786"
             ],
             [
              0.5555555555555556,
              "#d8576b"
             ],
             [
              0.6666666666666666,
              "#ed7953"
             ],
             [
              0.7777777777777778,
              "#fb9f3a"
             ],
             [
              0.8888888888888888,
              "#fdca26"
             ],
             [
              1,
              "#f0f921"
             ]
            ],
            "type": "surface"
           }
          ],
          "table": [
           {
            "cells": {
             "fill": {
              "color": "#EBF0F8"
             },
             "line": {
              "color": "white"
             }
            },
            "header": {
             "fill": {
              "color": "#C8D4E3"
             },
             "line": {
              "color": "white"
             }
            },
            "type": "table"
           }
          ]
         },
         "layout": {
          "annotationdefaults": {
           "arrowcolor": "#2a3f5f",
           "arrowhead": 0,
           "arrowwidth": 1
          },
          "autotypenumbers": "strict",
          "coloraxis": {
           "colorbar": {
            "outlinewidth": 0,
            "ticks": ""
           }
          },
          "colorscale": {
           "diverging": [
            [
             0,
             "#8e0152"
            ],
            [
             0.1,
             "#c51b7d"
            ],
            [
             0.2,
             "#de77ae"
            ],
            [
             0.3,
             "#f1b6da"
            ],
            [
             0.4,
             "#fde0ef"
            ],
            [
             0.5,
             "#f7f7f7"
            ],
            [
             0.6,
             "#e6f5d0"
            ],
            [
             0.7,
             "#b8e186"
            ],
            [
             0.8,
             "#7fbc41"
            ],
            [
             0.9,
             "#4d9221"
            ],
            [
             1,
             "#276419"
            ]
           ],
           "sequential": [
            [
             0,
             "#0d0887"
            ],
            [
             0.1111111111111111,
             "#46039f"
            ],
            [
             0.2222222222222222,
             "#7201a8"
            ],
            [
             0.3333333333333333,
             "#9c179e"
            ],
            [
             0.4444444444444444,
             "#bd3786"
            ],
            [
             0.5555555555555556,
             "#d8576b"
            ],
            [
             0.6666666666666666,
             "#ed7953"
            ],
            [
             0.7777777777777778,
             "#fb9f3a"
            ],
            [
             0.8888888888888888,
             "#fdca26"
            ],
            [
             1,
             "#f0f921"
            ]
           ],
           "sequentialminus": [
            [
             0,
             "#0d0887"
            ],
            [
             0.1111111111111111,
             "#46039f"
            ],
            [
             0.2222222222222222,
             "#7201a8"
            ],
            [
             0.3333333333333333,
             "#9c179e"
            ],
            [
             0.4444444444444444,
             "#bd3786"
            ],
            [
             0.5555555555555556,
             "#d8576b"
            ],
            [
             0.6666666666666666,
             "#ed7953"
            ],
            [
             0.7777777777777778,
             "#fb9f3a"
            ],
            [
             0.8888888888888888,
             "#fdca26"
            ],
            [
             1,
             "#f0f921"
            ]
           ]
          },
          "colorway": [
           "#636efa",
           "#EF553B",
           "#00cc96",
           "#ab63fa",
           "#FFA15A",
           "#19d3f3",
           "#FF6692",
           "#B6E880",
           "#FF97FF",
           "#FECB52"
          ],
          "font": {
           "color": "#2a3f5f"
          },
          "geo": {
           "bgcolor": "white",
           "lakecolor": "white",
           "landcolor": "#E5ECF6",
           "showlakes": true,
           "showland": true,
           "subunitcolor": "white"
          },
          "hoverlabel": {
           "align": "left"
          },
          "hovermode": "closest",
          "mapbox": {
           "style": "light"
          },
          "paper_bgcolor": "white",
          "plot_bgcolor": "#E5ECF6",
          "polar": {
           "angularaxis": {
            "gridcolor": "white",
            "linecolor": "white",
            "ticks": ""
           },
           "bgcolor": "#E5ECF6",
           "radialaxis": {
            "gridcolor": "white",
            "linecolor": "white",
            "ticks": ""
           }
          },
          "scene": {
           "xaxis": {
            "backgroundcolor": "#E5ECF6",
            "gridcolor": "white",
            "gridwidth": 2,
            "linecolor": "white",
            "showbackground": true,
            "ticks": "",
            "zerolinecolor": "white"
           },
           "yaxis": {
            "backgroundcolor": "#E5ECF6",
            "gridcolor": "white",
            "gridwidth": 2,
            "linecolor": "white",
            "showbackground": true,
            "ticks": "",
            "zerolinecolor": "white"
           },
           "zaxis": {
            "backgroundcolor": "#E5ECF6",
            "gridcolor": "white",
            "gridwidth": 2,
            "linecolor": "white",
            "showbackground": true,
            "ticks": "",
            "zerolinecolor": "white"
           }
          },
          "shapedefaults": {
           "line": {
            "color": "#2a3f5f"
           }
          },
          "ternary": {
           "aaxis": {
            "gridcolor": "white",
            "linecolor": "white",
            "ticks": ""
           },
           "baxis": {
            "gridcolor": "white",
            "linecolor": "white",
            "ticks": ""
           },
           "bgcolor": "#E5ECF6",
           "caxis": {
            "gridcolor": "white",
            "linecolor": "white",
            "ticks": ""
           }
          },
          "title": {
           "x": 0.05
          },
          "xaxis": {
           "automargin": true,
           "gridcolor": "white",
           "linecolor": "white",
           "ticks": "",
           "title": {
            "standoff": 15
           },
           "zerolinecolor": "white",
           "zerolinewidth": 2
          },
          "yaxis": {
           "automargin": true,
           "gridcolor": "white",
           "linecolor": "white",
           "ticks": "",
           "title": {
            "standoff": 15
           },
           "zerolinecolor": "white",
           "zerolinewidth": 2
          }
         }
        },
        "title": {
         "font": {
          "size": 24
         },
         "text": "<b>State Populations</b>"
        },
        "width": 800,
        "xaxis": {
         "showgrid": false,
         "showticklabels": false,
         "zeroline": false
        },
        "yaxis": {
         "scaleanchor": "x",
         "scaleratio": 1,
         "showgrid": false,
         "showticklabels": false,
         "zeroline": false
        }
       }
      }
     },
     "metadata": {},
     "output_type": "display_data"
    }
   ],
   "source": [
    "# Tile Grid Map\n",
    "# Continuous data example:\n",
    "\n",
    "import pandas as pd\n",
    "import plotly.graph_objects as go\n",
    "import plotly.express as px\n",
    "\n",
    "# Assign the name of DataFrame column to plot:\n",
    "VALUES = 'Popl'\n",
    "\n",
    "# Assign plot and legend titles:\n",
    "TITLE = 'State Populations'\n",
    "LEGEND_TITLE = 'Population'\n",
    "\n",
    "# Assign a Plotly colormap \n",
    "# See (https://plotly.com/python/builtin-colorscales/):\n",
    "COLORMAP = 'Blues'\n",
    "\n",
    "# Assign colors for tile edge and text:\n",
    "EDGE_COLOR = 'white'\n",
    "TEXT_COLOR = 'black'\n",
    "\n",
    "# Identify data source:\n",
    "SOURCE = 'U.S. Census Bureau'\n",
    "\n",
    "# Load the CSV file\n",
    "dataUSA = pd.read_csv('dataUSA.csv')\n",
    "\n",
    "# Create a figure:\n",
    "fig = go.Figure()\n",
    "\n",
    "# Compute normalized population values for interpolating colors:\n",
    "\n",
    "dataUSA = dataUSA.assign(norm_pop=((dataUSA[VALUES] - dataUSA[VALUES].min()) / \n",
    "                                   (dataUSA[VALUES].max() - dataUSA[VALUES].min())))\n",
    "colors = px.colors.sample_colorscale(COLORMAP, dataUSA['norm_pop'])\n",
    "\n",
    "# Make square tiles for states:\n",
    "shapes = [dict(type='rect',\n",
    "                    x0=x - 0.5, x1=x + 0.5,\n",
    "                    y0=y - 0.5, y1=y + 0.5,\n",
    "                    line=dict(color=EDGE_COLOR),\n",
    "                    fillcolor=color,\n",
    "                    layer='below')\n",
    "              for x, y, color in zip(dataUSA['X'], dataUSA['Y'], colors)]\n",
    "fig.update_layout(shapes=shapes)\n",
    "\n",
    "# Add the invisible trace for the colorbar first,\n",
    "# disabling its hover info so it never catches the pointer:\n",
    "fig.add_trace(go.Scatter(x=dataUSA['X'],\n",
    "                         y=dataUSA['Y'],\n",
    "                         mode='markers',\n",
    "                         marker=dict(colorscale=COLORMAP,\n",
    "                                     cmin=dataUSA[VALUES].min(),\n",
    "                                     cmax=dataUSA[VALUES].max(),\n",
    "                                     color=dataUSA[VALUES],\n",
    "                                     showscale=True,\n",
    "                                     colorbar=dict(title=LEGEND_TITLE)),\n",
    "                         opacity=0,\n",
    "                         showlegend=False,\n",
    "                         hoverinfo='skip'))\n",
    "\n",
    "# Create custom data containing only \"State\" and \"Popl\":\n",
    "custom_data = dataUSA[['State', VALUES]].values.tolist()\n",
    "\n",
    "# Add a trace with markers + text.\n",
    "# The invisible markers (set using an RGBA color with 0 alpha) create a \n",
    "# hoverable area and the text provides the state abbreviations:\n",
    "fig.add_trace(go.Scatter(\n",
    "    x=dataUSA['X'],\n",
    "    y=dataUSA['Y'],\n",
    "    mode='markers+text',\n",
    "    marker=dict(size=20, color='rgba(0, 0, 0, 0)'),\n",
    "    text=dataUSA['Abbr'],\n",
    "    textfont=dict(size=16, color=TEXT_COLOR, family='Arial'),\n",
    "    customdata=custom_data,\n",
    "    hovertemplate=(\n",
    "        'State: %{customdata[0]}<br>' +\n",
    "        f'{LEGEND_TITLE}: ' +\n",
    "        '%{customdata[1]:,}' +\n",
    "        '<extra></extra>'),  \n",
    "    showlegend=False))\n",
    "\n",
    "# Update figure:\n",
    "fig.update_layout(xaxis=dict(showgrid=False,\n",
    "                             zeroline=False,\n",
    "                             showticklabels=False),\n",
    "                  yaxis=dict(showgrid=False,\n",
    "                             zeroline=False,\n",
    "                             showticklabels=False,\n",
    "                             scaleanchor='x',\n",
    "                             scaleratio=1),\n",
    "                  plot_bgcolor='white',\n",
    "                  width=800,\n",
    "                  height=500,\n",
    "                  title=dict(text=f'<b>{TITLE}</b>',\n",
    "                             font=dict(size=24)),\n",
    "                  showlegend=False,\n",
    "                  annotations=[dict(x=0,\n",
    "                                    y=-0.1,\n",
    "                                    xref='paper',\n",
    "                                    yref='paper',\n",
    "                                    text=f'<i>Source: {SOURCE}</i>',\n",
    "                                    showarrow=False,\n",
    "                                    font=dict(size=12, color='black'))])\n",
    "\n",
    "fig.show()"
   ]
  },
  {
   "cell_type": "markdown",
   "id": "d492f345",
   "metadata": {},
   "source": [
    "### Hexagonal Tile Grid Maps\n",
    "Using hexagons in place of squares produces a hexagonal tile grid map:\n",
    "\n",
    "Theoretically, you can achieve better state boundary relationships with hexagons versus square tiles. I don’t find this beneficial enough to justify the fiddly code for building the hexagons, plus I find the hexagons hard on the eyes. Some organizations love them, however. Here’s an interesting article on hex grids by National Public Radio.\n",
    "\n",
    "The NPR article shows an alternative way to arrange the state tiles. If you want to mimic their arrangement, you’ll need to change the “X” and “Y” columns in the CSV template.\n",
    "\n",
    "In the following code, I use the same x-y values for the hexagon map as for the square tile map. The example uses continuous data and produces the population map at the start of this section. It can be easily adapted to use categorical data.\n",
    "\n"
   ]
  },
  {
   "cell_type": "code",
   "execution_count": null,
   "id": "27f0bac1",
   "metadata": {},
   "outputs": [
    {
     "data": {
      "application/vnd.plotly.v1+json": {
       "config": {
        "plotlyServerURL": "https://plot.ly"
       },
       "data": [
        {
         "hoverinfo": "skip",
         "marker": {
          "cmax": 39431263,
          "cmin": 587618,
          "color": {
           "bdata": "Q7NOACVLCwCwsnMA4h8vAF+sWQJ151oAvRM4AA0NEAC3oWQBTpuqAAIRFgDTih4ADvHBAPOnaQAQdjEA7lMtAFQDRgDsJ0YAVHAVALSRXwCr42wAK7uaAH9lWABF6CwAWkxfAFFaEQDZmR4Ai9sxAAiAFQCz+JAAUIEgAHAmLwGIjKgAmCcMAChTtQChfT4A8zBBAN+QxwD0+BAAr5lTAP0bDgBmSW4Az3XdAf11NQAt5QkAu3KGAKRueQD7ARsAD/VaAGL3CAA=",
           "dtype": "i4"
          },
          "colorbar": {
           "title": {
            "text": "Population"
           }
          },
          "colorscale": [
           [
            0,
            "rgb(161, 105, 40)"
           ],
           [
            0.16666666666666666,
            "rgb(189, 146, 90)"
           ],
           [
            0.3333333333333333,
            "rgb(214, 189, 141)"
           ],
           [
            0.5,
            "rgb(237, 234, 194)"
           ],
           [
            0.6666666666666666,
            "rgb(181, 200, 184)"
           ],
           [
            0.8333333333333334,
            "rgb(121, 167, 172)"
           ],
           [
            1,
            "rgb(40, 135, 161)"
           ]
          ],
          "showscale": true
         },
         "mode": "markers",
         "opacity": 0,
         "showlegend": false,
         "type": "scatter",
         "x": {
          "bdata": "AAAAAAAAHkAAAAAAAADgPwAAAAAAAABAAAAAAAAAFEAAAAAAAAD4PwAAAAAAAAxAAAAAAAAAJEAAAAAAAAAlQAAAAAAAACJAAAAAAAAAIUAAAAAAAADgPwAAAAAAAARAAAAAAAAAGEAAAAAAAAAaQAAAAAAAABRAAAAAAAAAEEAAAAAAAAAcQAAAAAAAABZAAAAAAAAAJ0AAAAAAAAAjQAAAAAAAACVAAAAAAAAAHkAAAAAAAAAWQAAAAAAAABpAAAAAAAAAFkAAAAAAAAAMQAAAAAAAABJAAAAAAAAABEAAAAAAAAAmQAAAAAAAACJAAAAAAAAACEAAAAAAAAAjQAAAAAAAACJAAAAAAAAAEkAAAAAAAAAcQAAAAAAAABJAAAAAAAAA8D8AAAAAAAAgQAAAAAAAACdAAAAAAAAAIEAAAAAAAAAQQAAAAAAAABhAAAAAAAAAEEAAAAAAAAAAQAAAAAAAACRAAAAAAAAAIUAAAAAAAAD4PwAAAAAAAB5AAAAAAAAAGkAAAAAAAAAIQA==",
          "dtype": "f8"
         },
         "y": {
          "bdata": "mpmZmZmZ6T9nZmZmZmYWQJqZmZmZmfk/mpmZmZmZ+T80MzMzMzMDQDQzMzMzMwNAmpmZmZmZCUA0MzMzMzMDQAAAAAAAAAAAmpmZmZmZ6T+amZmZmZnpPwAAAAAAABBAmpmZmZmZCUA0MzMzMzMDQJqZmZmZmQlAmpmZmZmZ+T+amZmZmZn5P5qZmZmZmek/Z2ZmZmZmFkA0MzMzMzMDQAAAAAAAABBAAAAAAAAAEEAAAAAAAAAQQJqZmZmZmek/NDMzMzMzA0AAAAAAAAAQQDQzMzMzMwNANDMzMzMzA0A0MzMzMzMTQJqZmZmZmQlAmpmZmZmZ+T8AAAAAAAAQQJqZmZmZmfk/AAAAAAAAEECamZmZmZkJQJqZmZmZmek/mpmZmZmZCUCamZmZmZkJQAAAAAAAABBAmpmZmZmZ+T+amZmZmZkJQJqZmZmZmfk/AAAAAAAAAACamZmZmZkJQDQzMzMzMxNANDMzMzMzA0AAAAAAAAAQQDQzMzMzMwNAAAAAAAAAEECamZmZmZkJQA==",
          "dtype": "f8"
         }
        },
        {
         "customdata": [
          [
           "Alabama",
           5157699
          ],
          [
           "Alaska",
           740133
          ],
          [
           "Arizona",
           7582384
          ],
          [
           "Arkansas",
           3088354
          ],
          [
           "California",
           39431263
          ],
          [
           "Colorado",
           5957493
          ],
          [
           "Connecticut",
           3675069
          ],
          [
           "Delaware",
           1051917
          ],
          [
           "Florida",
           23372215
          ],
          [
           "Georgia",
           11180878
          ],
          [
           "Hawaii",
           1446146
          ],
          [
           "Idaho",
           2001619
          ],
          [
           "Illinois",
           12710158
          ],
          [
           "Indiana",
           6924275
          ],
          [
           "Iowa",
           3241488
          ],
          [
           "Kansas",
           2970606
          ],
          [
           "Kentucky",
           4588372
          ],
          [
           "Louisiana",
           4597740
          ],
          [
           "Maine",
           1405012
          ],
          [
           "Maryland",
           6263220
          ],
          [
           "Massachusetts",
           7136171
          ],
          [
           "Michigan",
           10140459
          ],
          [
           "Minnesota",
           5793151
          ],
          [
           "Mississippi",
           2943045
          ],
          [
           "Missouri",
           6245466
          ],
          [
           "Montana",
           1137233
          ],
          [
           "Nebraska",
           2005465
          ],
          [
           "Nevada",
           3267467
          ],
          [
           "New Hampshire",
           1409032
          ],
          [
           "New Jersey",
           9500851
          ],
          [
           "New Mexico",
           2130256
          ],
          [
           "New York",
           19867248
          ],
          [
           "North Carolina",
           11046024
          ],
          [
           "North Dakota",
           796568
          ],
          [
           "Ohio",
           11883304
          ],
          [
           "Oklahoma",
           4095393
          ],
          [
           "Oregon",
           4272371
          ],
          [
           "Pennsylvania",
           13078751
          ],
          [
           "Rhode Island",
           1112308
          ],
          [
           "South Carolina",
           5478831
          ],
          [
           "South Dakota",
           924669
          ],
          [
           "Tennessee",
           7227750
          ],
          [
           "Texas",
           31290831
          ],
          [
           "Utah",
           3503613
          ],
          [
           "Vermont",
           648493
          ],
          [
           "Virginia",
           8811195
          ],
          [
           "Washington",
           7958180
          ],
          [
           "West Virginia",
           1769979
          ],
          [
           "Wisconsin",
           5960975
          ],
          [
           "Wyoming",
           587618
          ]
         ],
         "hovertemplate": "State: %{customdata[0]}<br>Population: %{customdata[1]:,}<extra></extra>",
         "marker": {
          "color": "rgba(0, 0, 0, 0)",
          "size": 20
         },
         "mode": "markers+text",
         "showlegend": false,
         "text": [
          "AL",
          "AK",
          "AZ",
          "AR",
          "CA",
          "CO",
          "CT",
          "DE",
          "FL",
          "GA",
          "HI",
          "ID",
          "IL",
          "IN",
          "IA",
          "KS",
          "KY",
          "LA",
          "ME",
          "MD",
          "MA",
          "MI",
          "MN",
          "MS",
          "MO",
          "MT",
          "NE",
          "NE",
          "NH",
          "NJ",
          "NM",
          "NY",
          "NC",
          "ND",
          "OH",
          "OK",
          "OR",
          "PA",
          "RI",
          "SC",
          "SD",
          "TN",
          "TX",
          "UT",
          "VT",
          "VA",
          "WA",
          "WV",
          "WI",
          "WY"
         ],
         "textfont": {
          "color": "white",
          "family": "Arial",
          "size": 16
         },
         "type": "scatter",
         "x": {
          "bdata": "AAAAAAAAHkAAAAAAAADgPwAAAAAAAABAAAAAAAAAFEAAAAAAAAD4PwAAAAAAAAxAAAAAAAAAJEAAAAAAAAAlQAAAAAAAACJAAAAAAAAAIUAAAAAAAADgPwAAAAAAAARAAAAAAAAAGEAAAAAAAAAaQAAAAAAAABRAAAAAAAAAEEAAAAAAAAAcQAAAAAAAABZAAAAAAAAAJ0AAAAAAAAAjQAAAAAAAACVAAAAAAAAAHkAAAAAAAAAWQAAAAAAAABpAAAAAAAAAFkAAAAAAAAAMQAAAAAAAABJAAAAAAAAABEAAAAAAAAAmQAAAAAAAACJAAAAAAAAACEAAAAAAAAAjQAAAAAAAACJAAAAAAAAAEkAAAAAAAAAcQAAAAAAAABJAAAAAAAAA8D8AAAAAAAAgQAAAAAAAACdAAAAAAAAAIEAAAAAAAAAQQAAAAAAAABhAAAAAAAAAEEAAAAAAAAAAQAAAAAAAACRAAAAAAAAAIUAAAAAAAAD4PwAAAAAAAB5AAAAAAAAAGkAAAAAAAAAIQA==",
          "dtype": "f8"
         },
         "y": {
          "bdata": "mpmZmZmZ6T9nZmZmZmYWQJqZmZmZmfk/mpmZmZmZ+T80MzMzMzMDQDQzMzMzMwNAmpmZmZmZCUA0MzMzMzMDQAAAAAAAAAAAmpmZmZmZ6T+amZmZmZnpPwAAAAAAABBAmpmZmZmZCUA0MzMzMzMDQJqZmZmZmQlAmpmZmZmZ+T+amZmZmZn5P5qZmZmZmek/Z2ZmZmZmFkA0MzMzMzMDQAAAAAAAABBAAAAAAAAAEEAAAAAAAAAQQJqZmZmZmek/NDMzMzMzA0AAAAAAAAAQQDQzMzMzMwNANDMzMzMzA0A0MzMzMzMTQJqZmZmZmQlAmpmZmZmZ+T8AAAAAAAAQQJqZmZmZmfk/AAAAAAAAEECamZmZmZkJQJqZmZmZmek/mpmZmZmZCUCamZmZmZkJQAAAAAAAABBAmpmZmZmZ+T+amZmZmZkJQJqZmZmZmfk/AAAAAAAAAACamZmZmZkJQDQzMzMzMxNANDMzMzMzA0AAAAAAAAAQQDQzMzMzMwNAAAAAAAAAEECamZmZmZkJQA==",
          "dtype": "f8"
         }
        }
       ],
       "layout": {
        "annotations": [
         {
          "font": {
           "color": "black",
           "size": 12
          },
          "showarrow": false,
          "text": "<i>Source: U.S. Census Bureau</i>",
          "x": 0,
          "xref": "paper",
          "y": -0.1,
          "yref": "paper"
         }
        ],
        "height": 500,
        "plot_bgcolor": "white",
        "shapes": [
         {
          "fillcolor": "rgb(181, 134, 75)",
          "layer": "below",
          "line": {
           "color": "white"
          },
          "path": "M 7.5,1.3 L 7.06698729810778,1.0500000000000003 L 7.06698729810778,0.5500000000000002 L 7.5,0.30000000000000004 L 7.933012701892219,0.5499999999999998 L 7.93301270189222,1.0499999999999996 L 7.5,1.3 Z",
          "type": "path"
         },
         {
          "fillcolor": "rgb(162, 106, 41)",
          "layer": "below",
          "line": {
           "color": "white"
          },
          "path": "M 0.5,6.1000000000000005 L 0.06698729810778076,5.8500000000000005 L 0.06698729810778059,5.3500000000000005 L 0.4999999999999999,5.1000000000000005 L 0.9330127018922192,5.3500000000000005 L 0.9330127018922195,5.8500000000000005 L 0.5000000000000001,6.1000000000000005 Z",
          "type": "path"
         },
         {
          "fillcolor": "rgb(191, 149, 94)",
          "layer": "below",
          "line": {
           "color": "white"
          },
          "path": "M 2.0,2.1 L 1.5669872981077808,1.8500000000000003 L 1.5669872981077806,1.35 L 2.0,1.1 L 2.433012701892219,1.3499999999999999 L 2.4330127018922196,1.8499999999999996 L 2.0,2.1 Z",
          "type": "path"
         },
         {
          "fillcolor": "rgb(172, 121, 59)",
          "layer": "below",
          "line": {
           "color": "white"
          },
          "path": "M 5.0,2.1 L 4.56698729810778,1.8500000000000003 L 4.56698729810778,1.35 L 5.0,1.1 L 5.433012701892219,1.3499999999999999 L 5.43301270189222,1.8499999999999996 L 5.0,2.1 Z",
          "type": "path"
         },
         {
          "fillcolor": "rgb(40, 135, 161)",
          "layer": "below",
          "line": {
           "color": "white"
          },
          "path": "M 1.5,2.9000000000000004 L 1.0669872981077808,2.6500000000000004 L 1.0669872981077806,2.1500000000000004 L 1.5,1.9000000000000004 L 1.9330127018922192,2.1500000000000004 L 1.9330127018922196,2.65 L 1.5000000000000002,2.9000000000000004 Z",
          "type": "path"
         },
         {
          "fillcolor": "rgb(184, 139, 81)",
          "layer": "below",
          "line": {
           "color": "white"
          },
          "path": "M 3.5,2.9000000000000004 L 3.066987298107781,2.6500000000000004 L 3.0669872981077804,2.1500000000000004 L 3.5,1.9000000000000004 L 3.933012701892219,2.1500000000000004 L 3.9330127018922196,2.65 L 3.5,2.9000000000000004 Z",
          "type": "path"
         },
         {
          "fillcolor": "rgb(174, 125, 64)",
          "layer": "below",
          "line": {
           "color": "white"
          },
          "path": "M 10.0,3.7 L 9.566987298107781,3.45 L 9.566987298107781,2.95 L 10.0,2.7 L 10.433012701892219,2.95 L 10.433012701892219,3.4499999999999997 L 10.0,3.7 Z",
          "type": "path"
         },
         {
          "fillcolor": "rgb(163, 108, 44)",
          "layer": "below",
          "line": {
           "color": "white"
          },
          "path": "M 10.5,2.9000000000000004 L 10.066987298107781,2.6500000000000004 L 10.066987298107781,2.1500000000000004 L 10.5,1.9000000000000004 L 10.933012701892219,2.1500000000000004 L 10.933012701892219,2.65 L 10.5,2.9000000000000004 Z",
          "type": "path"
         },
         {
          "fillcolor": "rgb(208, 216, 189)",
          "layer": "below",
          "line": {
           "color": "white"
          },
          "path": "M 9.0,0.5 L 8.566987298107781,0.25000000000000017 L 8.566987298107781,-0.2499999999999999 L 9.0,-0.5 L 9.433012701892219,-0.2500000000000002 L 9.433012701892219,0.24999999999999964 L 9.0,0.5 Z",
          "type": "path"
         },
         {
          "fillcolor": "rgb(205, 173, 122)",
          "layer": "below",
          "line": {
           "color": "white"
          },
          "path": "M 8.5,1.3 L 8.066987298107781,1.0500000000000003 L 8.066987298107781,0.5500000000000002 L 8.5,0.30000000000000004 L 8.933012701892219,0.5499999999999998 L 8.933012701892219,1.0499999999999996 L 8.5,1.3 Z",
          "type": "path"
         },
         {
          "fillcolor": "rgb(165, 110, 47)",
          "layer": "below",
          "line": {
           "color": "white"
          },
          "path": "M 0.5,1.3 L 0.06698729810778076,1.0500000000000003 L 0.06698729810778059,0.5500000000000002 L 0.4999999999999999,0.30000000000000004 L 0.9330127018922192,0.5499999999999998 L 0.9330127018922195,1.0499999999999996 L 0.5000000000000001,1.3 Z",
          "type": "path"
         },
         {
          "fillcolor": "rgb(167, 114, 51)",
          "layer": "below",
          "line": {
           "color": "white"
          },
          "path": "M 2.5,4.5 L 2.066987298107781,4.25 L 2.0669872981077804,3.75 L 2.5,3.5 L 2.933012701892219,3.75 L 2.9330127018922196,4.25 L 2.5,4.5 Z",
          "type": "path"
         },
         {
          "fillcolor": "rgb(211, 184, 134)",
          "layer": "below",
          "line": {
           "color": "white"
          },
          "path": "M 6.0,3.7 L 5.56698729810778,3.45 L 5.56698729810778,2.95 L 6.0,2.7 L 6.433012701892219,2.95 L 6.43301270189222,3.4499999999999997 L 6.0,3.7 Z",
          "type": "path"
         },
         {
          "fillcolor": "rgb(188, 145, 89)",
          "layer": "below",
          "line": {
           "color": "white"
          },
          "path": "M 6.5,2.9000000000000004 L 6.06698729810778,2.6500000000000004 L 6.06698729810778,2.1500000000000004 L 6.5,1.9000000000000004 L 6.933012701892219,2.1500000000000004 L 6.93301270189222,2.65 L 6.5,2.9000000000000004 Z",
          "type": "path"
         },
         {
          "fillcolor": "rgb(172, 122, 60)",
          "layer": "below",
          "line": {
           "color": "white"
          },
          "path": "M 5.0,3.7 L 4.56698729810778,3.45 L 4.56698729810778,2.95 L 5.0,2.7 L 5.433012701892219,2.95 L 5.43301270189222,3.4499999999999997 L 5.0,3.7 Z",
          "type": "path"
         },
         {
          "fillcolor": "rgb(171, 120, 58)",
          "layer": "below",
          "line": {
           "color": "white"
          },
          "path": "M 4.0,2.1 L 3.566987298107781,1.8500000000000003 L 3.5669872981077804,1.35 L 4.0,1.1 L 4.433012701892219,1.3499999999999999 L 4.43301270189222,1.8499999999999996 L 4.0,2.1 Z",
          "type": "path"
         },
         {
          "fillcolor": "rgb(178, 130, 71)",
          "layer": "below",
          "line": {
           "color": "white"
          },
          "path": "M 7.0,2.1 L 6.56698729810778,1.8500000000000003 L 6.56698729810778,1.35 L 7.0,1.1 L 7.433012701892219,1.3499999999999999 L 7.43301270189222,1.8499999999999996 L 7.0,2.1 Z",
          "type": "path"
         },
         {
          "fillcolor": "rgb(178, 130, 71)",
          "layer": "below",
          "line": {
           "color": "white"
          },
          "path": "M 5.5,1.3 L 5.06698729810778,1.0500000000000003 L 5.06698729810778,0.5500000000000002 L 5.5,0.30000000000000004 L 5.933012701892219,0.5499999999999998 L 5.93301270189222,1.0499999999999996 L 5.5,1.3 Z",
          "type": "path"
         },
         {
          "fillcolor": "rgb(165, 110, 46)",
          "layer": "below",
          "line": {
           "color": "white"
          },
          "path": "M 11.5,6.1000000000000005 L 11.066987298107781,5.8500000000000005 L 11.066987298107781,5.3500000000000005 L 11.5,5.1000000000000005 L 11.933012701892219,5.3500000000000005 L 11.933012701892219,5.8500000000000005 L 11.5,6.1000000000000005 Z",
          "type": "path"
         },
         {
          "fillcolor": "rgb(186, 141, 84)",
          "layer": "below",
          "line": {
           "color": "white"
          },
          "path": "M 9.5,2.9000000000000004 L 9.066987298107781,2.6500000000000004 L 9.066987298107781,2.1500000000000004 L 9.5,1.9000000000000004 L 9.933012701892219,2.1500000000000004 L 9.933012701892219,2.65 L 9.5,2.9000000000000004 Z",
          "type": "path"
         },
         {
          "fillcolor": "rgb(189, 146, 91)",
          "layer": "below",
          "line": {
           "color": "white"
          },
          "path": "M 10.5,4.5 L 10.066987298107781,4.25 L 10.066987298107781,3.75 L 10.5,3.5 L 10.933012701892219,3.75 L 10.933012701892219,4.25 L 10.5,4.5 Z",
          "type": "path"
         },
         {
          "fillcolor": "rgb(201, 166, 114)",
          "layer": "below",
          "line": {
           "color": "white"
          },
          "path": "M 7.5,4.5 L 7.06698729810778,4.25 L 7.06698729810778,3.75 L 7.5,3.5 L 7.933012701892219,3.75 L 7.93301270189222,4.25 L 7.5,4.5 Z",
          "type": "path"
         },
         {
          "fillcolor": "rgb(184, 138, 80)",
          "layer": "below",
          "line": {
           "color": "white"
          },
          "path": "M 5.5,4.5 L 5.06698729810778,4.25 L 5.06698729810778,3.75 L 5.5,3.5 L 5.933012701892219,3.75 L 5.93301270189222,4.25 L 5.5,4.5 Z",
          "type": "path"
         },
         {
          "fillcolor": "rgb(171, 120, 58)",
          "layer": "below",
          "line": {
           "color": "white"
          },
          "path": "M 6.5,1.3 L 6.06698729810778,1.0500000000000003 L 6.06698729810778,0.5500000000000002 L 6.5,0.30000000000000004 L 6.933012701892219,0.5499999999999998 L 6.93301270189222,1.0499999999999996 L 6.5,1.3 Z",
          "type": "path"
         },
         {
          "fillcolor": "rgb(185, 141, 84)",
          "layer": "below",
          "line": {
           "color": "white"
          },
          "path": "M 5.5,2.9000000000000004 L 5.06698729810778,2.6500000000000004 L 5.06698729810778,2.1500000000000004 L 5.5,1.9000000000000004 L 5.933012701892219,2.1500000000000004 L 5.93301270189222,2.65 L 5.5,2.9000000000000004 Z",
          "type": "path"
         },
         {
          "fillcolor": "rgb(163, 108, 44)",
          "layer": "below",
          "line": {
           "color": "white"
          },
          "path": "M 3.5,4.5 L 3.066987298107781,4.25 L 3.0669872981077804,3.75 L 3.5,3.5 L 3.933012701892219,3.75 L 3.9330127018922196,4.25 L 3.5,4.5 Z",
          "type": "path"
         },
         {
          "fillcolor": "rgb(167, 114, 51)",
          "layer": "below",
          "line": {
           "color": "white"
          },
          "path": "M 4.5,2.9000000000000004 L 4.06698729810778,2.6500000000000004 L 4.06698729810778,2.1500000000000004 L 4.5,1.9000000000000004 L 4.933012701892219,2.1500000000000004 L 4.93301270189222,2.65 L 4.5,2.9000000000000004 Z",
          "type": "path"
         },
         {
          "fillcolor": "rgb(173, 122, 61)",
          "layer": "below",
          "line": {
           "color": "white"
          },
          "path": "M 2.5,2.9000000000000004 L 2.066987298107781,2.6500000000000004 L 2.0669872981077804,2.1500000000000004 L 2.5,1.9000000000000004 L 2.933012701892219,2.1500000000000004 L 2.9330127018922196,2.65 L 2.5,2.9000000000000004 Z",
          "type": "path"
         },
         {
          "fillcolor": "rgb(165, 110, 46)",
          "layer": "below",
          "line": {
           "color": "white"
          },
          "path": "M 11.0,5.300000000000001 L 10.566987298107781,5.050000000000001 L 10.566987298107781,4.550000000000001 L 11.0,4.300000000000001 L 11.433012701892219,4.550000000000001 L 11.433012701892219,5.050000000000001 L 11.0,5.300000000000001 Z",
          "type": "path"
         },
         {
          "fillcolor": "rgb(198, 162, 109)",
          "layer": "below",
          "line": {
           "color": "white"
          },
          "path": "M 9.0,3.7 L 8.566987298107781,3.45 L 8.566987298107781,2.95 L 9.0,2.7 L 9.433012701892219,2.95 L 9.433012701892219,3.4499999999999997 L 9.0,3.7 Z",
          "type": "path"
         },
         {
          "fillcolor": "rgb(168, 115, 52)",
          "layer": "below",
          "line": {
           "color": "white"
          },
          "path": "M 3.0,2.1 L 2.566987298107781,1.8500000000000003 L 2.5669872981077804,1.35 L 3.0,1.1 L 3.433012701892219,1.3499999999999999 L 3.4330127018922196,1.8499999999999996 L 3.0,2.1 Z",
          "type": "path"
         },
         {
          "fillcolor": "rgb(236, 233, 193)",
          "layer": "below",
          "line": {
           "color": "white"
          },
          "path": "M 9.5,4.5 L 9.066987298107781,4.25 L 9.066987298107781,3.75 L 9.5,3.5 L 9.933012701892219,3.75 L 9.933012701892219,4.25 L 9.5,4.5 Z",
          "type": "path"
         },
         {
          "fillcolor": "rgb(204, 172, 121)",
          "layer": "below",
          "line": {
           "color": "white"
          },
          "path": "M 9.0,2.1 L 8.566987298107781,1.8500000000000003 L 8.566987298107781,1.35 L 9.0,1.1 L 9.433012701892219,1.3499999999999999 L 9.433012701892219,1.8499999999999996 L 9.0,2.1 Z",
          "type": "path"
         },
         {
          "fillcolor": "rgb(162, 106, 42)",
          "layer": "below",
          "line": {
           "color": "white"
          },
          "path": "M 4.5,4.5 L 4.06698729810778,4.25 L 4.06698729810778,3.75 L 4.5,3.5 L 4.933012701892219,3.75 L 4.93301270189222,4.25 L 4.5,4.5 Z",
          "type": "path"
         },
         {
          "fillcolor": "rgb(208, 178, 128)",
          "layer": "below",
          "line": {
           "color": "white"
          },
          "path": "M 7.0,3.7 L 6.56698729810778,3.45 L 6.56698729810778,2.95 L 7.0,2.7 L 7.433012701892219,2.95 L 7.43301270189222,3.4499999999999997 L 7.0,3.7 Z",
          "type": "path"
         },
         {
          "fillcolor": "rgb(176, 127, 67)",
          "layer": "below",
          "line": {
           "color": "white"
          },
          "path": "M 4.5,1.3 L 4.06698729810778,1.0500000000000003 L 4.06698729810778,0.5500000000000002 L 4.5,0.30000000000000004 L 4.933012701892219,0.5499999999999998 L 4.93301270189222,1.0499999999999996 L 4.5,1.3 Z",
          "type": "path"
         },
         {
          "fillcolor": "rgb(177, 128, 68)",
          "layer": "below",
          "line": {
           "color": "white"
          },
          "path": "M 1.0,3.7 L 0.5669872981077808,3.45 L 0.5669872981077806,2.95 L 0.9999999999999999,2.7 L 1.4330127018922192,2.95 L 1.4330127018922196,3.4499999999999997 L 1.0000000000000002,3.7 Z",
          "type": "path"
         },
         {
          "fillcolor": "rgb(212, 186, 137)",
          "layer": "below",
          "line": {
           "color": "white"
          },
          "path": "M 8.0,3.7 L 7.56698729810778,3.45 L 7.56698729810778,2.95 L 8.0,2.7 L 8.433012701892219,2.95 L 8.433012701892219,3.4499999999999997 L 8.0,3.7 Z",
          "type": "path"
         },
         {
          "fillcolor": "rgb(163, 108, 44)",
          "layer": "below",
          "line": {
           "color": "white"
          },
          "path": "M 11.5,4.5 L 11.066987298107781,4.25 L 11.066987298107781,3.75 L 11.5,3.5 L 11.933012701892219,3.75 L 11.933012701892219,4.25 L 11.5,4.5 Z",
          "type": "path"
         },
         {
          "fillcolor": "rgb(182, 136, 78)",
          "layer": "below",
          "line": {
           "color": "white"
          },
          "path": "M 8.0,2.1 L 7.56698729810778,1.8500000000000003 L 7.56698729810778,1.35 L 8.0,1.1 L 8.433012701892219,1.3499999999999999 L 8.433012701892219,1.8499999999999996 L 8.0,2.1 Z",
          "type": "path"
         },
         {
          "fillcolor": "rgb(162, 107, 43)",
          "layer": "below",
          "line": {
           "color": "white"
          },
          "path": "M 4.0,3.7 L 3.566987298107781,3.45 L 3.5669872981077804,2.95 L 4.0,2.7 L 4.433012701892219,2.95 L 4.43301270189222,3.4499999999999997 L 4.0,3.7 Z",
          "type": "path"
         },
         {
          "fillcolor": "rgb(190, 147, 91)",
          "layer": "below",
          "line": {
           "color": "white"
          },
          "path": "M 6.0,2.1 L 5.56698729810778,1.8500000000000003 L 5.56698729810778,1.35 L 6.0,1.1 L 6.433012701892219,1.3499999999999999 L 6.43301270189222,1.8499999999999996 L 6.0,2.1 Z",
          "type": "path"
         },
         {
          "fillcolor": "rgb(136, 175, 175)",
          "layer": "below",
          "line": {
           "color": "white"
          },
          "path": "M 4.0,0.5 L 3.566987298107781,0.25000000000000017 L 3.5669872981077804,-0.2499999999999999 L 4.0,-0.5 L 4.433012701892219,-0.2500000000000002 L 4.43301270189222,0.24999999999999964 L 4.0,0.5 Z",
          "type": "path"
         },
         {
          "fillcolor": "rgb(174, 123, 63)",
          "layer": "below",
          "line": {
           "color": "white"
          },
          "path": "M 2.0,3.7 L 1.5669872981077808,3.45 L 1.5669872981077806,2.95 L 2.0,2.7 L 2.433012701892219,2.95 L 2.4330127018922196,3.4499999999999997 L 2.0,3.7 Z",
          "type": "path"
         },
         {
          "fillcolor": "rgb(161, 105, 40)",
          "layer": "below",
          "line": {
           "color": "white"
          },
          "path": "M 10.0,5.300000000000001 L 9.566987298107781,5.050000000000001 L 9.566987298107781,4.550000000000001 L 10.0,4.300000000000001 L 10.433012701892219,4.550000000000001 L 10.433012701892219,5.050000000000001 L 10.0,5.300000000000001 Z",
          "type": "path"
         },
         {
          "fillcolor": "rgb(196, 158, 104)",
          "layer": "below",
          "line": {
           "color": "white"
          },
          "path": "M 8.5,2.9000000000000004 L 8.066987298107781,2.6500000000000004 L 8.066987298107781,2.1500000000000004 L 8.5,1.9000000000000004 L 8.933012701892219,2.1500000000000004 L 8.933012701892219,2.65 L 8.5,2.9000000000000004 Z",
          "type": "path"
         },
         {
          "fillcolor": "rgb(192, 152, 97)",
          "layer": "below",
          "line": {
           "color": "white"
          },
          "path": "M 1.5,4.5 L 1.0669872981077808,4.25 L 1.0669872981077806,3.75 L 1.5,3.5 L 1.9330127018922192,3.75 L 1.9330127018922196,4.25 L 1.5000000000000002,4.5 Z",
          "type": "path"
         },
         {
          "fillcolor": "rgb(166, 112, 49)",
          "layer": "below",
          "line": {
           "color": "white"
          },
          "path": "M 7.5,2.9000000000000004 L 7.06698729810778,2.6500000000000004 L 7.06698729810778,2.1500000000000004 L 7.5,1.9000000000000004 L 7.933012701892219,2.1500000000000004 L 7.93301270189222,2.65 L 7.5,2.9000000000000004 Z",
          "type": "path"
         },
         {
          "fillcolor": "rgb(184, 139, 81)",
          "layer": "below",
          "line": {
           "color": "white"
          },
          "path": "M 6.5,4.5 L 6.06698729810778,4.25 L 6.06698729810778,3.75 L 6.5,3.5 L 6.933012701892219,3.75 L 6.93301270189222,4.25 L 6.5,4.5 Z",
          "type": "path"
         },
         {
          "fillcolor": "rgb(161, 105, 40)",
          "layer": "below",
          "line": {
           "color": "white"
          },
          "path": "M 3.0,3.7 L 2.566987298107781,3.45 L 2.5669872981077804,2.95 L 3.0,2.7 L 3.433012701892219,2.95 L 3.4330127018922196,3.4499999999999997 L 3.0,3.7 Z",
          "type": "path"
         }
        ],
        "showlegend": false,
        "template": {
         "data": {
          "bar": [
           {
            "error_x": {
             "color": "#2a3f5f"
            },
            "error_y": {
             "color": "#2a3f5f"
            },
            "marker": {
             "line": {
              "color": "#E5ECF6",
              "width": 0.5
             },
             "pattern": {
              "fillmode": "overlay",
              "size": 10,
              "solidity": 0.2
             }
            },
            "type": "bar"
           }
          ],
          "barpolar": [
           {
            "marker": {
             "line": {
              "color": "#E5ECF6",
              "width": 0.5
             },
             "pattern": {
              "fillmode": "overlay",
              "size": 10,
              "solidity": 0.2
             }
            },
            "type": "barpolar"
           }
          ],
          "carpet": [
           {
            "aaxis": {
             "endlinecolor": "#2a3f5f",
             "gridcolor": "white",
             "linecolor": "white",
             "minorgridcolor": "white",
             "startlinecolor": "#2a3f5f"
            },
            "baxis": {
             "endlinecolor": "#2a3f5f",
             "gridcolor": "white",
             "linecolor": "white",
             "minorgridcolor": "white",
             "startlinecolor": "#2a3f5f"
            },
            "type": "carpet"
           }
          ],
          "choropleth": [
           {
            "colorbar": {
             "outlinewidth": 0,
             "ticks": ""
            },
            "type": "choropleth"
           }
          ],
          "contour": [
           {
            "colorbar": {
             "outlinewidth": 0,
             "ticks": ""
            },
            "colorscale": [
             [
              0,
              "#0d0887"
             ],
             [
              0.1111111111111111,
              "#46039f"
             ],
             [
              0.2222222222222222,
              "#7201a8"
             ],
             [
              0.3333333333333333,
              "#9c179e"
             ],
             [
              0.4444444444444444,
              "#bd3786"
             ],
             [
              0.5555555555555556,
              "#d8576b"
             ],
             [
              0.6666666666666666,
              "#ed7953"
             ],
             [
              0.7777777777777778,
              "#fb9f3a"
             ],
             [
              0.8888888888888888,
              "#fdca26"
             ],
             [
              1,
              "#f0f921"
             ]
            ],
            "type": "contour"
           }
          ],
          "contourcarpet": [
           {
            "colorbar": {
             "outlinewidth": 0,
             "ticks": ""
            },
            "type": "contourcarpet"
           }
          ],
          "heatmap": [
           {
            "colorbar": {
             "outlinewidth": 0,
             "ticks": ""
            },
            "colorscale": [
             [
              0,
              "#0d0887"
             ],
             [
              0.1111111111111111,
              "#46039f"
             ],
             [
              0.2222222222222222,
              "#7201a8"
             ],
             [
              0.3333333333333333,
              "#9c179e"
             ],
             [
              0.4444444444444444,
              "#bd3786"
             ],
             [
              0.5555555555555556,
              "#d8576b"
             ],
             [
              0.6666666666666666,
              "#ed7953"
             ],
             [
              0.7777777777777778,
              "#fb9f3a"
             ],
             [
              0.8888888888888888,
              "#fdca26"
             ],
             [
              1,
              "#f0f921"
             ]
            ],
            "type": "heatmap"
           }
          ],
          "histogram": [
           {
            "marker": {
             "pattern": {
              "fillmode": "overlay",
              "size": 10,
              "solidity": 0.2
             }
            },
            "type": "histogram"
           }
          ],
          "histogram2d": [
           {
            "colorbar": {
             "outlinewidth": 0,
             "ticks": ""
            },
            "colorscale": [
             [
              0,
              "#0d0887"
             ],
             [
              0.1111111111111111,
              "#46039f"
             ],
             [
              0.2222222222222222,
              "#7201a8"
             ],
             [
              0.3333333333333333,
              "#9c179e"
             ],
             [
              0.4444444444444444,
              "#bd3786"
             ],
             [
              0.5555555555555556,
              "#d8576b"
             ],
             [
              0.6666666666666666,
              "#ed7953"
             ],
             [
              0.7777777777777778,
              "#fb9f3a"
             ],
             [
              0.8888888888888888,
              "#fdca26"
             ],
             [
              1,
              "#f0f921"
             ]
            ],
            "type": "histogram2d"
           }
          ],
          "histogram2dcontour": [
           {
            "colorbar": {
             "outlinewidth": 0,
             "ticks": ""
            },
            "colorscale": [
             [
              0,
              "#0d0887"
             ],
             [
              0.1111111111111111,
              "#46039f"
             ],
             [
              0.2222222222222222,
              "#7201a8"
             ],
             [
              0.3333333333333333,
              "#9c179e"
             ],
             [
              0.4444444444444444,
              "#bd3786"
             ],
             [
              0.5555555555555556,
              "#d8576b"
             ],
             [
              0.6666666666666666,
              "#ed7953"
             ],
             [
              0.7777777777777778,
              "#fb9f3a"
             ],
             [
              0.8888888888888888,
              "#fdca26"
             ],
             [
              1,
              "#f0f921"
             ]
            ],
            "type": "histogram2dcontour"
           }
          ],
          "mesh3d": [
           {
            "colorbar": {
             "outlinewidth": 0,
             "ticks": ""
            },
            "type": "mesh3d"
           }
          ],
          "parcoords": [
           {
            "line": {
             "colorbar": {
              "outlinewidth": 0,
              "ticks": ""
             }
            },
            "type": "parcoords"
           }
          ],
          "pie": [
           {
            "automargin": true,
            "type": "pie"
           }
          ],
          "scatter": [
           {
            "fillpattern": {
             "fillmode": "overlay",
             "size": 10,
             "solidity": 0.2
            },
            "type": "scatter"
           }
          ],
          "scatter3d": [
           {
            "line": {
             "colorbar": {
              "outlinewidth": 0,
              "ticks": ""
             }
            },
            "marker": {
             "colorbar": {
              "outlinewidth": 0,
              "ticks": ""
             }
            },
            "type": "scatter3d"
           }
          ],
          "scattercarpet": [
           {
            "marker": {
             "colorbar": {
              "outlinewidth": 0,
              "ticks": ""
             }
            },
            "type": "scattercarpet"
           }
          ],
          "scattergeo": [
           {
            "marker": {
             "colorbar": {
              "outlinewidth": 0,
              "ticks": ""
             }
            },
            "type": "scattergeo"
           }
          ],
          "scattergl": [
           {
            "marker": {
             "colorbar": {
              "outlinewidth": 0,
              "ticks": ""
             }
            },
            "type": "scattergl"
           }
          ],
          "scattermap": [
           {
            "marker": {
             "colorbar": {
              "outlinewidth": 0,
              "ticks": ""
             }
            },
            "type": "scattermap"
           }
          ],
          "scattermapbox": [
           {
            "marker": {
             "colorbar": {
              "outlinewidth": 0,
              "ticks": ""
             }
            },
            "type": "scattermapbox"
           }
          ],
          "scatterpolar": [
           {
            "marker": {
             "colorbar": {
              "outlinewidth": 0,
              "ticks": ""
             }
            },
            "type": "scatterpolar"
           }
          ],
          "scatterpolargl": [
           {
            "marker": {
             "colorbar": {
              "outlinewidth": 0,
              "ticks": ""
             }
            },
            "type": "scatterpolargl"
           }
          ],
          "scatterternary": [
           {
            "marker": {
             "colorbar": {
              "outlinewidth": 0,
              "ticks": ""
             }
            },
            "type": "scatterternary"
           }
          ],
          "surface": [
           {
            "colorbar": {
             "outlinewidth": 0,
             "ticks": ""
            },
            "colorscale": [
             [
              0,
              "#0d0887"
             ],
             [
              0.1111111111111111,
              "#46039f"
             ],
             [
              0.2222222222222222,
              "#7201a8"
             ],
             [
              0.3333333333333333,
              "#9c179e"
             ],
             [
              0.4444444444444444,
              "#bd3786"
             ],
             [
              0.5555555555555556,
              "#d8576b"
             ],
             [
              0.6666666666666666,
              "#ed7953"
             ],
             [
              0.7777777777777778,
              "#fb9f3a"
             ],
             [
              0.8888888888888888,
              "#fdca26"
             ],
             [
              1,
              "#f0f921"
             ]
            ],
            "type": "surface"
           }
          ],
          "table": [
           {
            "cells": {
             "fill": {
              "color": "#EBF0F8"
             },
             "line": {
              "color": "white"
             }
            },
            "header": {
             "fill": {
              "color": "#C8D4E3"
             },
             "line": {
              "color": "white"
             }
            },
            "type": "table"
           }
          ]
         },
         "layout": {
          "annotationdefaults": {
           "arrowcolor": "#2a3f5f",
           "arrowhead": 0,
           "arrowwidth": 1
          },
          "autotypenumbers": "strict",
          "coloraxis": {
           "colorbar": {
            "outlinewidth": 0,
            "ticks": ""
           }
          },
          "colorscale": {
           "diverging": [
            [
             0,
             "#8e0152"
            ],
            [
             0.1,
             "#c51b7d"
            ],
            [
             0.2,
             "#de77ae"
            ],
            [
             0.3,
             "#f1b6da"
            ],
            [
             0.4,
             "#fde0ef"
            ],
            [
             0.5,
             "#f7f7f7"
            ],
            [
             0.6,
             "#e6f5d0"
            ],
            [
             0.7,
             "#b8e186"
            ],
            [
             0.8,
             "#7fbc41"
            ],
            [
             0.9,
             "#4d9221"
            ],
            [
             1,
             "#276419"
            ]
           ],
           "sequential": [
            [
             0,
             "#0d0887"
            ],
            [
             0.1111111111111111,
             "#46039f"
            ],
            [
             0.2222222222222222,
             "#7201a8"
            ],
            [
             0.3333333333333333,
             "#9c179e"
            ],
            [
             0.4444444444444444,
             "#bd3786"
            ],
            [
             0.5555555555555556,
             "#d8576b"
            ],
            [
             0.6666666666666666,
             "#ed7953"
            ],
            [
             0.7777777777777778,
             "#fb9f3a"
            ],
            [
             0.8888888888888888,
             "#fdca26"
            ],
            [
             1,
             "#f0f921"
            ]
           ],
           "sequentialminus": [
            [
             0,
             "#0d0887"
            ],
            [
             0.1111111111111111,
             "#46039f"
            ],
            [
             0.2222222222222222,
             "#7201a8"
            ],
            [
             0.3333333333333333,
             "#9c179e"
            ],
            [
             0.4444444444444444,
             "#bd3786"
            ],
            [
             0.5555555555555556,
             "#d8576b"
            ],
            [
             0.6666666666666666,
             "#ed7953"
            ],
            [
             0.7777777777777778,
             "#fb9f3a"
            ],
            [
             0.8888888888888888,
             "#fdca26"
            ],
            [
             1,
             "#f0f921"
            ]
           ]
          },
          "colorway": [
           "#636efa",
           "#EF553B",
           "#00cc96",
           "#ab63fa",
           "#FFA15A",
           "#19d3f3",
           "#FF6692",
           "#B6E880",
           "#FF97FF",
           "#FECB52"
          ],
          "font": {
           "color": "#2a3f5f"
          },
          "geo": {
           "bgcolor": "white",
           "lakecolor": "white",
           "landcolor": "#E5ECF6",
           "showlakes": true,
           "showland": true,
           "subunitcolor": "white"
          },
          "hoverlabel": {
           "align": "left"
          },
          "hovermode": "closest",
          "mapbox": {
           "style": "light"
          },
          "paper_bgcolor": "white",
          "plot_bgcolor": "#E5ECF6",
          "polar": {
           "angularaxis": {
            "gridcolor": "white",
            "linecolor": "white",
            "ticks": ""
           },
           "bgcolor": "#E5ECF6",
           "radialaxis": {
            "gridcolor": "white",
            "linecolor": "white",
            "ticks": ""
           }
          },
          "scene": {
           "xaxis": {
            "backgroundcolor": "#E5ECF6",
            "gridcolor": "white",
            "gridwidth": 2,
            "linecolor": "white",
            "showbackground": true,
            "ticks": "",
            "zerolinecolor": "white"
           },
           "yaxis": {
            "backgroundcolor": "#E5ECF6",
            "gridcolor": "white",
            "gridwidth": 2,
            "linecolor": "white",
            "showbackground": true,
            "ticks": "",
            "zerolinecolor": "white"
           },
           "zaxis": {
            "backgroundcolor": "#E5ECF6",
            "gridcolor": "white",
            "gridwidth": 2,
            "linecolor": "white",
            "showbackground": true,
            "ticks": "",
            "zerolinecolor": "white"
           }
          },
          "shapedefaults": {
           "line": {
            "color": "#2a3f5f"
           }
          },
          "ternary": {
           "aaxis": {
            "gridcolor": "white",
            "linecolor": "white",
            "ticks": ""
           },
           "baxis": {
            "gridcolor": "white",
            "linecolor": "white",
            "ticks": ""
           },
           "bgcolor": "#E5ECF6",
           "caxis": {
            "gridcolor": "white",
            "linecolor": "white",
            "ticks": ""
           }
          },
          "title": {
           "x": 0.05
          },
          "xaxis": {
           "automargin": true,
           "gridcolor": "white",
           "linecolor": "white",
           "ticks": "",
           "title": {
            "standoff": 15
           },
           "zerolinecolor": "white",
           "zerolinewidth": 2
          },
          "yaxis": {
           "automargin": true,
           "gridcolor": "white",
           "linecolor": "white",
           "ticks": "",
           "title": {
            "standoff": 15
           },
           "zerolinecolor": "white",
           "zerolinewidth": 2
          }
         }
        },
        "title": {
         "font": {
          "size": 24
         },
         "text": "<b>State Populations</b>"
        },
        "width": 800,
        "xaxis": {
         "showgrid": false,
         "showticklabels": false,
         "zeroline": false
        },
        "yaxis": {
         "scaleanchor": "x",
         "scaleratio": 1,
         "showgrid": false,
         "showticklabels": false,
         "zeroline": false
        }
       }
      }
     },
     "metadata": {},
     "output_type": "display_data"
    }
   ],
   "source": [
    "# Tile Grid Map\n",
    "# Hexagon example (continuous data):\n",
    "\n",
    "import pandas as pd\n",
    "import numpy as np\n",
    "import plotly.graph_objects as go\n",
    "import plotly.express as px\n",
    "\n",
    "# Assign the name of the DataFrame column to plot:\n",
    "VALUES = 'Popl'\n",
    "\n",
    "# Assign plot title and legend title:\n",
    "TITLE = 'State Populations'\n",
    "LEGEND_TITLE = 'Population'\n",
    "\n",
    "# Assign a Plotly colormap \n",
    "# (see https://plotly.com/python/builtin-colorscales/): BrBG, PRGn, PIYG, PuOr, RdBu, RdBu\n",
    "# RdGy, RdYlBu, RdYlGn, Spectral, balance, delta, curl, oxy, Armyrose, Fall, Geyser\n",
    "# Temps, Tealrose, Tropic, Earth, Picnic, Portland\n",
    "COLORMAP = 'Earth'\n",
    "\n",
    "# Assign colors for tile edge and text:\n",
    "EDGE_COLOR = 'white'\n",
    "TEXT_COLOR = 'white'\n",
    "\n",
    "# Identify data source:\n",
    "SOURCE = 'U.S. Census Bureau'\n",
    "\n",
    "# Choose a hexagon size:\n",
    "HEX_SIZE = 0.5\n",
    "\n",
    "# Define a vertical scaling factor to bring hexagons close together:\n",
    "Y_SCALE = 0.8\n",
    "\n",
    "# Load the CSV file:\n",
    "data = pd.read_csv('dataUSA.csv')\n",
    "\n",
    "# Make a new DF column for the vertical gap between hexagons:\n",
    "data['Y_scaled'] = data['Y'] * Y_SCALE\n",
    "\n",
    "# Compute normalized population values for interpolating colors:\n",
    "data = data.assign(norm_pop=((data[VALUES] - data[VALUES].min()) / \n",
    "                             (data[VALUES].max() - data[VALUES].min())))\n",
    "colors = px.colors.sample_colorscale(COLORMAP, data['norm_pop'])\n",
    "\n",
    "# Define a function for hexagon shapes:\n",
    "def create_hexagon_path(center, size, rotation=np.pi/2):\n",
    "    \"\"\"\n",
    "    Given a center (x, y) and a size (distance from the center to a vertex),\n",
    "    compute an SVG path string for a regular hexagon rotated by a given angle.\n",
    "    \n",
    "    The rotation parameter is in radians. \n",
    "    The Default is np.pi/2 for a 90° rotation.\n",
    "    \"\"\"\n",
    "    # Generate 7 angles between 0 and 2π, then add rotation offset:\n",
    "    angles = np.linspace(0, 2 * np.pi, 7) + rotation\n",
    "    x_coords = center[0] + size * np.cos(angles)\n",
    "    y_coords = center[1] + size * np.sin(angles)\n",
    "    \n",
    "    # Build the SVG path string: \"M x0,y0 L x1,y1 ... Z\"\n",
    "    points = [f\"{x},{y}\" for x, y in zip(x_coords, y_coords)]\n",
    "    path = \"M \" + \" L \".join(points) + \" Z\"\n",
    "    return path\n",
    "\n",
    "# Define a function to offset every other row so the hexagons interlock:\n",
    "def offset_x(row):\n",
    "    \"\"\"\n",
    "    Offset every other row so the hexagons interlock.\n",
    "    \n",
    "    For odd rows (when converted to int), add an offset equal to the\n",
    "    HEX_SIZE (half the width)\n",
    "    \"\"\"\n",
    "    if int(row['Y']) % 2 == 1:\n",
    "        return row['X'] + HEX_SIZE\n",
    "    else:\n",
    "        return row['X']\n",
    "\n",
    "data['X_offset'] = data.apply(offset_x, axis=1)\n",
    "\n",
    "# Create hexagon shapes using the new (rotated) hexagon path:\n",
    "shapes = [dict(type='path',\n",
    "               # Pass an explicit 90° rotation (np.pi/2) to rotate shapes:\n",
    "               path=create_hexagon_path((x_off, y), HEX_SIZE, rotation=np.pi/2),\n",
    "               line=dict(color=EDGE_COLOR),\n",
    "               fillcolor=color,\n",
    "               layer='below')\n",
    "          for x_off, y, color in zip(data['X_offset'], \n",
    "                                     data['Y_scaled'], \n",
    "                                     colors)]\n",
    "\n",
    "# Create the Plotly figure and add the hexagon shapes:\n",
    "fig = go.Figure()\n",
    "fig.update_layout(shapes=shapes)\n",
    "\n",
    "# Add the invisible scatter trace for the colorbar:\n",
    "fig.add_trace(go.Scatter(x=data['X_offset'],\n",
    "                         y=data['Y_scaled'],\n",
    "                         mode='markers',\n",
    "                         marker=dict(colorscale=COLORMAP,\n",
    "                                     cmin=data[VALUES].min(),\n",
    "                                     cmax=data[VALUES].max(),\n",
    "                                     color=data[VALUES],\n",
    "                                     showscale=True,\n",
    "                                     colorbar=dict(title=LEGEND_TITLE)),\n",
    "                         opacity=0,\n",
    "                         showlegend=False,\n",
    "                         hoverinfo='skip'))\n",
    "\n",
    "# Prepare custom data for the hover tooltip:\n",
    "custom_data = data[['State', VALUES]].values.tolist()\n",
    "\n",
    "# Add the scatter trace with invisible markers and text labels:\n",
    "fig.add_trace(go.Scatter(x=data['X_offset'],\n",
    "                         y=data['Y_scaled'],\n",
    "                         mode='markers+text',\n",
    "                         marker=dict(size=20, \n",
    "                                     color='rgba(0, 0, 0, 0)'),\n",
    "                         text=data['Abbr'],\n",
    "                         textfont=dict(size=16, \n",
    "                                       color=TEXT_COLOR, \n",
    "                                       family='Arial'),\n",
    "                        customdata=custom_data,\n",
    "                        hovertemplate=('State: %{customdata[0]}<br>' +\n",
    "                                       f'{LEGEND_TITLE}: ' +\n",
    "                                       '%{customdata[1]:,}' +\n",
    "                                       '<extra></extra>'),\n",
    "                        showlegend=False))\n",
    "\n",
    "# Update the figure layout:\n",
    "fig.update_layout(xaxis=dict(showgrid=False, \n",
    "                             zeroline=False, \n",
    "                             showticklabels=False),\n",
    "                  yaxis=dict(showgrid=False, \n",
    "                             zeroline=False, \n",
    "                             showticklabels=False,\n",
    "                             scaleanchor='x', \n",
    "                             scaleratio=1),\n",
    "                  plot_bgcolor='white',\n",
    "                  width=800,\n",
    "                  height=500,\n",
    "                  title=dict(text=f'<b>{TITLE}</b>', \n",
    "                             font=dict(size=24)),\n",
    "                  showlegend=False,\n",
    "                  annotations=[dict(x=0,\n",
    "                                    y=-0.1,\n",
    "                                    xref='paper',\n",
    "                                    yref='paper',\n",
    "                                    text=f'<i>Source: {SOURCE}</i>',\n",
    "                                    showarrow=False,\n",
    "                                    font=dict(size=12, color='black'))])\n",
    "\n",
    "fig.show()"
   ]
  }
 ],
 "metadata": {
  "kernelspec": {
   "display_name": "code_env",
   "language": "python",
   "name": "python3"
  },
  "language_info": {
   "codemirror_mode": {
    "name": "ipython",
    "version": 3
   },
   "file_extension": ".py",
   "mimetype": "text/x-python",
   "name": "python",
   "nbconvert_exporter": "python",
   "pygments_lexer": "ipython3",
   "version": "3.13.3"
  }
 },
 "nbformat": 4,
 "nbformat_minor": 5
}
