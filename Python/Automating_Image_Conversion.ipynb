
    #"Automating Image Conversion with Pillow
    #"Python’s Pillow library provides functionality for image manipulation, including converting images from one format to another. You can automate the process of converting multiple images to a specific format.\n",

    #"Example: Converting Images to JPEG Format
    #"Let’s say you have a directory containing images in various formats, and you want to convert all the images to JPEG format. Here’s how you can automate this task using Pillow:\n",
    #"This code snippet iterates over the files in the specified image directory. It checks if each file has a ‘.png’ or ‘.bmp’ extension to identify image files.For each image file, it opens the image using Image.open() from the Pillow library. It then converts the image to JPEG format using the save() method, specifying the new filename with the '.jpg' extension.The converted image is saved in the same directory with the new filename. A message is printed indicating the conversion of each image.Finally, it prints a message indicating the completion of the image conversion process."

from PIL import Image
import os

# Directory containing the images
image_directory = '/Users/ulrike_imac_air/projects/tests'

# Iterate over the images in the directory
for filename in os.listdir(image_directory):
    if filename.endswith('.png') or filename.endswith('.bmp'):
        # Open the image
        image_path = os.path.join(image_directory, filename)
        image = Image.open(image_path)
        
        # Convert RGBA to RGB if necessary
        if image.mode == 'RGBA':
            image = image.convert('RGB')
        
        # Convert the image to JPEG format
        new_filename = os.path.splitext(filename)[0] + '.jpg'
        new_image_path = os.path.join(image_directory, new_filename)
        image.save(new_image_path, 'JPEG')
        
        print(f"Converted: {filename} -> {new_filename}")

print("Image conversion completed.")
