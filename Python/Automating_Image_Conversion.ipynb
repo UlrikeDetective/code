{
 "cells": [
  {
   "cell_type": "markdown",
   "metadata": {},
   "source": [
    "Automating Image Conversion with Pillow\n",
    "Python’s Pillow library provides functionality for image manipulation, including converting images from one format to another. You can automate the process of converting multiple images to a specific format.\n",
    "\n",
    "Example: Converting Images to JPEG Format\n",
    "Let’s say you have a directory containing images in various formats, and you want to convert all the images to JPEG format. Here’s how you can automate this task using Pillow:\n",
    "This code snippet iterates over the files in the specified image directory. It checks if each file has a ‘.png’ or ‘.bmp’ extension to identify image files.For each image file, it opens the image using Image.open() from the Pillow library. It then converts the image to JPEG format using the save() method, specifying the new filename with the '.jpg' extension.The converted image is saved in the same directory with the new filename. A message is printed indicating the conversion of each image.Finally, it prints a message indicating the completion of the image conversion process."
   ]
  },
  {
   "cell_type": "code",
   "execution_count": null,
   "metadata": {},
   "outputs": [],
   "source": [
    "from PIL import Image\n",
    "import os\n",
    "\n",
    "# Directory containing the images\n",
    "image_directory = '/Users/ulrike_imac_air/Creative Cloud Files  ulrikeherold@hotmail.com 660C21A4484E4AF399201587@AdobeID/scripts_test'\n",
    "\n",
    "# Iterate over the images in the directory\n",
    "for filename in os.listdir(image_directory):\n",
    "    if filename.endswith('.png') or filename.endswith('.bmp'):\n",
    "        # Open the image\n",
    "        image_path = os.path.join(image_directory, filename)\n",
    "        image = Image.open(image_path)\n",
    "        \n",
    "        # Convert the image to JPEG format\n",
    "        new_filename = os.path.splitext(filename)[0] + '.jpg'\n",
    "        new_image_path = os.path.join(image_directory, new_filename)\n",
    "        image.save(new_image_path, 'JPEG')\n",
    "        \n",
    "        print(f\"Converted: {filename} -> {new_filename}\")\n",
    "\n",
    "print(\"Image conversion completed.\")"
   ]
  }
 ],
 "metadata": {
  "language_info": {
   "name": "python"
  }
 },
 "nbformat": 4,
 "nbformat_minor": 2
}
